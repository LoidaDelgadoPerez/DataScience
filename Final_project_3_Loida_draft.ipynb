{
 "cells": [
  {
   "cell_type": "markdown",
   "metadata": {},
   "source": [
    "# 3 - Exploratory Analysis"
   ]
  },
  {
   "cell_type": "markdown",
   "metadata": {},
   "source": [
    "# Step 1 - Loading Python libraries"
   ]
  },
  {
   "cell_type": "code",
   "execution_count": 1,
   "metadata": {},
   "outputs": [],
   "source": [
    "#imports\n",
    "from __future__ import division\n",
    "import pandas as pd\n",
    "import numpy as np\n",
    "import matplotlib.pyplot as plt\n",
    "import statsmodels.api as sm\n",
    "import pylab as pl\n",
    "import numpy as np\n",
    "import seaborn as sns\n",
    "%matplotlib inline"
   ]
  },
  {
   "cell_type": "markdown",
   "metadata": {},
   "source": [
    "# Step 2: Reading into my data set"
   ]
  },
  {
   "cell_type": "code",
   "execution_count": 2,
   "metadata": {},
   "outputs": [],
   "source": [
    "#Read in data from source \n",
    "df_movies = pd.read_csv(\"../03-exploratory-analysis/movies.csv\")\n",
    "df_ratings = pd.read_csv(\"../03-exploratory-analysis/ratings.csv\")\n",
    "df_users = pd.read_csv(\"../03-exploratory-analysis/users.csv\")"
   ]
  },
  {
   "cell_type": "markdown",
   "metadata": {},
   "source": [
    "# Looking at data and manipulate where needed"
   ]
  },
  {
   "cell_type": "code",
   "execution_count": 3,
   "metadata": {},
   "outputs": [
    {
     "name": "stdout",
     "output_type": "stream",
     "text": [
      "   MovieID                               Title                        Genres\n",
      "0        1                    Toy Story (1995)   Animation|Children's|Comedy\n",
      "1        2                      Jumanji (1995)  Adventure|Children's|Fantasy\n",
      "2        3             Grumpier Old Men (1995)                Comedy|Romance\n",
      "3        4            Waiting to Exhale (1995)                  Comedy|Drama\n",
      "4        5  Father of the Bride Part II (1995)                        Comedy\n",
      "5        6                         Heat (1995)         Action|Crime|Thriller\n",
      "6        7                      Sabrina (1995)                Comedy|Romance\n",
      "7        8                 Tom and Huck (1995)          Adventure|Children's\n",
      "8        9                 Sudden Death (1995)                        Action\n",
      "9       10                    GoldenEye (1995)     Action|Adventure|Thriller\n",
      "<class 'pandas.core.frame.DataFrame'>\n",
      "RangeIndex: 3883 entries, 0 to 3882\n",
      "Data columns (total 3 columns):\n",
      "MovieID    3883 non-null int64\n",
      "Title      3883 non-null object\n",
      "Genres     3686 non-null object\n",
      "dtypes: int64(1), object(2)\n",
      "memory usage: 91.1+ KB\n"
     ]
    }
   ],
   "source": [
    "#Movies\n",
    "print (df_movies.head(10))\n",
    "df_movies.info()"
   ]
  },
  {
   "cell_type": "code",
   "execution_count": 4,
   "metadata": {},
   "outputs": [
    {
     "data": {
      "text/plain": [
       "MovieID    3883\n",
       "Title      3883\n",
       "Genres     3686\n",
       "dtype: int64"
      ]
     },
     "execution_count": 4,
     "metadata": {},
     "output_type": "execute_result"
    }
   ],
   "source": [
    "# Counting observations in dataframe \n",
    "df_movies.count()"
   ]
  },
  {
   "cell_type": "code",
   "execution_count": 5,
   "metadata": {},
   "outputs": [
    {
     "name": "stdout",
     "output_type": "stream",
     "text": [
      "MovieID      0\n",
      "Title        0\n",
      "Genres     197\n",
      "dtype: int64\n"
     ]
    }
   ],
   "source": [
    "# Checking for missing values in dataframe\n",
    "df_movies.isnull().values.any()\n",
    "\n",
    "# Counting the number of NaN values in each column \n",
    "print(df_movies.isnull().sum())"
   ]
  },
  {
   "cell_type": "code",
   "execution_count": 6,
   "metadata": {},
   "outputs": [
    {
     "data": {
      "text/html": [
       "<div>\n",
       "<style scoped>\n",
       "    .dataframe tbody tr th:only-of-type {\n",
       "        vertical-align: middle;\n",
       "    }\n",
       "\n",
       "    .dataframe tbody tr th {\n",
       "        vertical-align: top;\n",
       "    }\n",
       "\n",
       "    .dataframe thead th {\n",
       "        text-align: right;\n",
       "    }\n",
       "</style>\n",
       "<table border=\"1\" class=\"dataframe\">\n",
       "  <thead>\n",
       "    <tr style=\"text-align: right;\">\n",
       "      <th></th>\n",
       "      <th>MovieID</th>\n",
       "      <th>Title</th>\n",
       "      <th>Genres</th>\n",
       "    </tr>\n",
       "  </thead>\n",
       "  <tbody>\n",
       "    <tr>\n",
       "      <th>0</th>\n",
       "      <td>1</td>\n",
       "      <td>Toy Story (1995)</td>\n",
       "      <td>Animation|Children's|Comedy</td>\n",
       "    </tr>\n",
       "    <tr>\n",
       "      <th>1</th>\n",
       "      <td>2</td>\n",
       "      <td>Jumanji (1995)</td>\n",
       "      <td>Adventure|Children's|Fantasy</td>\n",
       "    </tr>\n",
       "    <tr>\n",
       "      <th>2</th>\n",
       "      <td>3</td>\n",
       "      <td>Grumpier Old Men (1995)</td>\n",
       "      <td>Comedy|Romance</td>\n",
       "    </tr>\n",
       "    <tr>\n",
       "      <th>3</th>\n",
       "      <td>4</td>\n",
       "      <td>Waiting to Exhale (1995)</td>\n",
       "      <td>Comedy|Drama</td>\n",
       "    </tr>\n",
       "    <tr>\n",
       "      <th>4</th>\n",
       "      <td>5</td>\n",
       "      <td>Father of the Bride Part II (1995)</td>\n",
       "      <td>Comedy</td>\n",
       "    </tr>\n",
       "    <tr>\n",
       "      <th>5</th>\n",
       "      <td>6</td>\n",
       "      <td>Heat (1995)</td>\n",
       "      <td>Action|Crime|Thriller</td>\n",
       "    </tr>\n",
       "    <tr>\n",
       "      <th>6</th>\n",
       "      <td>7</td>\n",
       "      <td>Sabrina (1995)</td>\n",
       "      <td>Comedy|Romance</td>\n",
       "    </tr>\n",
       "    <tr>\n",
       "      <th>7</th>\n",
       "      <td>8</td>\n",
       "      <td>Tom and Huck (1995)</td>\n",
       "      <td>Adventure|Children's</td>\n",
       "    </tr>\n",
       "    <tr>\n",
       "      <th>8</th>\n",
       "      <td>9</td>\n",
       "      <td>Sudden Death (1995)</td>\n",
       "      <td>Action</td>\n",
       "    </tr>\n",
       "    <tr>\n",
       "      <th>9</th>\n",
       "      <td>10</td>\n",
       "      <td>GoldenEye (1995)</td>\n",
       "      <td>Action|Adventure|Thriller</td>\n",
       "    </tr>\n",
       "  </tbody>\n",
       "</table>\n",
       "</div>"
      ],
      "text/plain": [
       "   MovieID                               Title                        Genres\n",
       "0        1                    Toy Story (1995)   Animation|Children's|Comedy\n",
       "1        2                      Jumanji (1995)  Adventure|Children's|Fantasy\n",
       "2        3             Grumpier Old Men (1995)                Comedy|Romance\n",
       "3        4            Waiting to Exhale (1995)                  Comedy|Drama\n",
       "4        5  Father of the Bride Part II (1995)                        Comedy\n",
       "5        6                         Heat (1995)         Action|Crime|Thriller\n",
       "6        7                      Sabrina (1995)                Comedy|Romance\n",
       "7        8                 Tom and Huck (1995)          Adventure|Children's\n",
       "8        9                 Sudden Death (1995)                        Action\n",
       "9       10                    GoldenEye (1995)     Action|Adventure|Thriller"
      ]
     },
     "execution_count": 6,
     "metadata": {},
     "output_type": "execute_result"
    }
   ],
   "source": [
    "# Dropping rows with 197 genres missing and re assigning\n",
    "df_moviesc = df_movies.dropna()\n",
    "df_moviesc.head(10)"
   ]
  },
  {
   "cell_type": "code",
   "execution_count": 19,
   "metadata": {},
   "outputs": [
    {
     "name": "stdout",
     "output_type": "stream",
     "text": [
      "<class 'pandas.core.frame.DataFrame'>\n",
      "Int64Index: 3686 entries, 0 to 3882\n",
      "Data columns (total 3 columns):\n",
      "MovieID    3686 non-null int64\n",
      "Title      3686 non-null object\n",
      "Genres     3686 non-null object\n",
      "dtypes: int64(1), object(2)\n",
      "memory usage: 115.2+ KB\n"
     ]
    }
   ],
   "source": [
    "# Checking the missing values are gone - Good to go!\n",
    "df_moviesc.isnull().values.any()\n",
    "df_moviesc.info()"
   ]
  },
  {
   "cell_type": "code",
   "execution_count": 7,
   "metadata": {},
   "outputs": [
    {
     "name": "stdout",
     "output_type": "stream",
     "text": [
      "   UserID  MovieID  Rating  Timestamp\n",
      "0       1     1193       5  978300760\n",
      "1       1      661       3  978302109\n",
      "2       1      914       3  978301968\n",
      "3       1     3408       4  978300275\n",
      "4       1     2355       5  978824291\n",
      "5       1     1197       3  978302268\n",
      "6       1     1287       5  978302039\n",
      "7       1     2804       5  978300719\n",
      "8       1      594       4  978302268\n",
      "9       1      919       4  978301368\n",
      "<class 'pandas.core.frame.DataFrame'>\n",
      "RangeIndex: 1000209 entries, 0 to 1000208\n",
      "Data columns (total 4 columns):\n",
      "UserID       1000209 non-null int64\n",
      "MovieID      1000209 non-null int64\n",
      "Rating       1000209 non-null int64\n",
      "Timestamp    1000209 non-null int64\n",
      "dtypes: int64(4)\n",
      "memory usage: 30.5 MB\n"
     ]
    }
   ],
   "source": [
    "#Ratings\n",
    "print (df_ratings.head(10))\n",
    "df_ratings.info()"
   ]
  },
  {
   "cell_type": "code",
   "execution_count": 8,
   "metadata": {},
   "outputs": [
    {
     "name": "stdout",
     "output_type": "stream",
     "text": [
      "<class 'pandas.core.frame.DataFrame'>\n",
      "RangeIndex: 1000209 entries, 0 to 1000208\n",
      "Data columns (total 4 columns):\n",
      "UserID       1000209 non-null int64\n",
      "MovieID      1000209 non-null int64\n",
      "Rating       1000209 non-null int64\n",
      "Timestamp    1000209 non-null int64\n",
      "dtypes: int64(4)\n",
      "memory usage: 30.5 MB\n"
     ]
    }
   ],
   "source": [
    "# Counting observations in dataframe \n",
    "df_ratings.count()\n",
    "\n",
    "# Checking for missing values in dataframe\n",
    "df_ratings.isnull().values.any()\n",
    "\n",
    "# Re assigning to 'cleaned' df - Good to go!\n",
    "df_ratingsc = df_ratings\n",
    "df_ratingsc.info()"
   ]
  },
  {
   "cell_type": "code",
   "execution_count": 9,
   "metadata": {},
   "outputs": [
    {
     "name": "stdout",
     "output_type": "stream",
     "text": [
      "   UserID Gender  Age  Occupation Zip-code\n",
      "0       1      F    1          10    48067\n",
      "1       2      M   56          16    70072\n",
      "2       3      M   25          15    55117\n",
      "3       4      M   45           7     2460\n",
      "4       5      M   25          20    55455\n",
      "5       6      F   50           9    55117\n",
      "6       7      M   35           1     6810\n",
      "7       8      M   25          12    11413\n",
      "8       9      M   25          17    61614\n",
      "9      10      F   35           1    95370\n",
      "<class 'pandas.core.frame.DataFrame'>\n",
      "RangeIndex: 6040 entries, 0 to 6039\n",
      "Data columns (total 5 columns):\n",
      "UserID        6040 non-null int64\n",
      "Gender        6040 non-null object\n",
      "Age           6040 non-null int64\n",
      "Occupation    6040 non-null int64\n",
      "Zip-code      6040 non-null object\n",
      "dtypes: int64(3), object(2)\n",
      "memory usage: 236.0+ KB\n"
     ]
    }
   ],
   "source": [
    "#Users\n",
    "print (df_users.head(10))\n",
    "df_users.info()"
   ]
  },
  {
   "cell_type": "code",
   "execution_count": 10,
   "metadata": {},
   "outputs": [
    {
     "name": "stdout",
     "output_type": "stream",
     "text": [
      "<class 'pandas.core.frame.DataFrame'>\n",
      "RangeIndex: 6040 entries, 0 to 6039\n",
      "Data columns (total 5 columns):\n",
      "UserID        6040 non-null int64\n",
      "Gender        6040 non-null object\n",
      "Age           6040 non-null int64\n",
      "Occupation    6040 non-null int64\n",
      "Zip-code      6040 non-null object\n",
      "dtypes: int64(3), object(2)\n",
      "memory usage: 236.0+ KB\n"
     ]
    }
   ],
   "source": [
    "# Counting observations in dataframe \n",
    "df_users.count()\n",
    "\n",
    "# Re assigning to 'cleaned' df - Good to go!\n",
    "df_usersc = df_users\n",
    "df_usersc.info()"
   ]
  },
  {
   "cell_type": "markdown",
   "metadata": {},
   "source": [
    "# Create dictionary with movie frequency per user"
   ]
  },
  {
   "cell_type": "code",
   "execution_count": 55,
   "metadata": {},
   "outputs": [
    {
     "data": {
      "text/plain": [
       "6040"
      ]
     },
     "execution_count": 55,
     "metadata": {},
     "output_type": "execute_result"
    }
   ],
   "source": [
    "#Should have 6,040 users and 3,706 movies\n",
    "df_ratingsc['MovieID'].nunique()\n",
    "df_ratingsc['UserID'].nunique()"
   ]
  },
  {
   "cell_type": "code",
   "execution_count": 56,
   "metadata": {},
   "outputs": [
    {
     "data": {
      "text/html": [
       "<div>\n",
       "<style scoped>\n",
       "    .dataframe tbody tr th:only-of-type {\n",
       "        vertical-align: middle;\n",
       "    }\n",
       "\n",
       "    .dataframe tbody tr th {\n",
       "        vertical-align: top;\n",
       "    }\n",
       "\n",
       "    .dataframe thead th {\n",
       "        text-align: right;\n",
       "    }\n",
       "</style>\n",
       "<table border=\"1\" class=\"dataframe\">\n",
       "  <thead>\n",
       "    <tr style=\"text-align: right;\">\n",
       "      <th>MovieID</th>\n",
       "      <th>1</th>\n",
       "      <th>2</th>\n",
       "      <th>3</th>\n",
       "      <th>4</th>\n",
       "      <th>5</th>\n",
       "      <th>6</th>\n",
       "      <th>7</th>\n",
       "      <th>8</th>\n",
       "      <th>9</th>\n",
       "      <th>10</th>\n",
       "      <th>...</th>\n",
       "      <th>3944</th>\n",
       "      <th>3945</th>\n",
       "      <th>3946</th>\n",
       "      <th>3947</th>\n",
       "      <th>3948</th>\n",
       "      <th>3949</th>\n",
       "      <th>3950</th>\n",
       "      <th>3951</th>\n",
       "      <th>3952</th>\n",
       "      <th>All</th>\n",
       "    </tr>\n",
       "    <tr>\n",
       "      <th>UserID</th>\n",
       "      <th></th>\n",
       "      <th></th>\n",
       "      <th></th>\n",
       "      <th></th>\n",
       "      <th></th>\n",
       "      <th></th>\n",
       "      <th></th>\n",
       "      <th></th>\n",
       "      <th></th>\n",
       "      <th></th>\n",
       "      <th></th>\n",
       "      <th></th>\n",
       "      <th></th>\n",
       "      <th></th>\n",
       "      <th></th>\n",
       "      <th></th>\n",
       "      <th></th>\n",
       "      <th></th>\n",
       "      <th></th>\n",
       "      <th></th>\n",
       "      <th></th>\n",
       "    </tr>\n",
       "  </thead>\n",
       "  <tbody>\n",
       "    <tr>\n",
       "      <th>1</th>\n",
       "      <td>1</td>\n",
       "      <td>0</td>\n",
       "      <td>0</td>\n",
       "      <td>0</td>\n",
       "      <td>0</td>\n",
       "      <td>0</td>\n",
       "      <td>0</td>\n",
       "      <td>0</td>\n",
       "      <td>0</td>\n",
       "      <td>0</td>\n",
       "      <td>...</td>\n",
       "      <td>0</td>\n",
       "      <td>0</td>\n",
       "      <td>0</td>\n",
       "      <td>0</td>\n",
       "      <td>0</td>\n",
       "      <td>0</td>\n",
       "      <td>0</td>\n",
       "      <td>0</td>\n",
       "      <td>0</td>\n",
       "      <td>53</td>\n",
       "    </tr>\n",
       "    <tr>\n",
       "      <th>2</th>\n",
       "      <td>0</td>\n",
       "      <td>0</td>\n",
       "      <td>0</td>\n",
       "      <td>0</td>\n",
       "      <td>0</td>\n",
       "      <td>0</td>\n",
       "      <td>0</td>\n",
       "      <td>0</td>\n",
       "      <td>0</td>\n",
       "      <td>0</td>\n",
       "      <td>...</td>\n",
       "      <td>0</td>\n",
       "      <td>0</td>\n",
       "      <td>0</td>\n",
       "      <td>0</td>\n",
       "      <td>0</td>\n",
       "      <td>0</td>\n",
       "      <td>0</td>\n",
       "      <td>0</td>\n",
       "      <td>0</td>\n",
       "      <td>129</td>\n",
       "    </tr>\n",
       "    <tr>\n",
       "      <th>3</th>\n",
       "      <td>0</td>\n",
       "      <td>0</td>\n",
       "      <td>0</td>\n",
       "      <td>0</td>\n",
       "      <td>0</td>\n",
       "      <td>0</td>\n",
       "      <td>0</td>\n",
       "      <td>0</td>\n",
       "      <td>0</td>\n",
       "      <td>0</td>\n",
       "      <td>...</td>\n",
       "      <td>0</td>\n",
       "      <td>0</td>\n",
       "      <td>0</td>\n",
       "      <td>0</td>\n",
       "      <td>0</td>\n",
       "      <td>0</td>\n",
       "      <td>0</td>\n",
       "      <td>0</td>\n",
       "      <td>0</td>\n",
       "      <td>51</td>\n",
       "    </tr>\n",
       "    <tr>\n",
       "      <th>4</th>\n",
       "      <td>0</td>\n",
       "      <td>0</td>\n",
       "      <td>0</td>\n",
       "      <td>0</td>\n",
       "      <td>0</td>\n",
       "      <td>0</td>\n",
       "      <td>0</td>\n",
       "      <td>0</td>\n",
       "      <td>0</td>\n",
       "      <td>0</td>\n",
       "      <td>...</td>\n",
       "      <td>0</td>\n",
       "      <td>0</td>\n",
       "      <td>0</td>\n",
       "      <td>0</td>\n",
       "      <td>0</td>\n",
       "      <td>0</td>\n",
       "      <td>0</td>\n",
       "      <td>0</td>\n",
       "      <td>0</td>\n",
       "      <td>21</td>\n",
       "    </tr>\n",
       "    <tr>\n",
       "      <th>5</th>\n",
       "      <td>0</td>\n",
       "      <td>0</td>\n",
       "      <td>0</td>\n",
       "      <td>0</td>\n",
       "      <td>0</td>\n",
       "      <td>1</td>\n",
       "      <td>0</td>\n",
       "      <td>0</td>\n",
       "      <td>0</td>\n",
       "      <td>0</td>\n",
       "      <td>...</td>\n",
       "      <td>0</td>\n",
       "      <td>0</td>\n",
       "      <td>0</td>\n",
       "      <td>0</td>\n",
       "      <td>0</td>\n",
       "      <td>0</td>\n",
       "      <td>0</td>\n",
       "      <td>0</td>\n",
       "      <td>0</td>\n",
       "      <td>198</td>\n",
       "    </tr>\n",
       "    <tr>\n",
       "      <th>6</th>\n",
       "      <td>1</td>\n",
       "      <td>0</td>\n",
       "      <td>0</td>\n",
       "      <td>0</td>\n",
       "      <td>0</td>\n",
       "      <td>0</td>\n",
       "      <td>0</td>\n",
       "      <td>0</td>\n",
       "      <td>0</td>\n",
       "      <td>0</td>\n",
       "      <td>...</td>\n",
       "      <td>0</td>\n",
       "      <td>0</td>\n",
       "      <td>0</td>\n",
       "      <td>0</td>\n",
       "      <td>0</td>\n",
       "      <td>0</td>\n",
       "      <td>0</td>\n",
       "      <td>0</td>\n",
       "      <td>0</td>\n",
       "      <td>71</td>\n",
       "    </tr>\n",
       "    <tr>\n",
       "      <th>7</th>\n",
       "      <td>0</td>\n",
       "      <td>0</td>\n",
       "      <td>0</td>\n",
       "      <td>0</td>\n",
       "      <td>0</td>\n",
       "      <td>1</td>\n",
       "      <td>0</td>\n",
       "      <td>0</td>\n",
       "      <td>0</td>\n",
       "      <td>0</td>\n",
       "      <td>...</td>\n",
       "      <td>0</td>\n",
       "      <td>0</td>\n",
       "      <td>0</td>\n",
       "      <td>0</td>\n",
       "      <td>0</td>\n",
       "      <td>0</td>\n",
       "      <td>0</td>\n",
       "      <td>0</td>\n",
       "      <td>0</td>\n",
       "      <td>31</td>\n",
       "    </tr>\n",
       "    <tr>\n",
       "      <th>8</th>\n",
       "      <td>1</td>\n",
       "      <td>0</td>\n",
       "      <td>0</td>\n",
       "      <td>1</td>\n",
       "      <td>0</td>\n",
       "      <td>0</td>\n",
       "      <td>0</td>\n",
       "      <td>0</td>\n",
       "      <td>0</td>\n",
       "      <td>0</td>\n",
       "      <td>...</td>\n",
       "      <td>0</td>\n",
       "      <td>0</td>\n",
       "      <td>0</td>\n",
       "      <td>0</td>\n",
       "      <td>0</td>\n",
       "      <td>0</td>\n",
       "      <td>0</td>\n",
       "      <td>0</td>\n",
       "      <td>0</td>\n",
       "      <td>139</td>\n",
       "    </tr>\n",
       "    <tr>\n",
       "      <th>9</th>\n",
       "      <td>1</td>\n",
       "      <td>0</td>\n",
       "      <td>0</td>\n",
       "      <td>0</td>\n",
       "      <td>0</td>\n",
       "      <td>0</td>\n",
       "      <td>0</td>\n",
       "      <td>0</td>\n",
       "      <td>0</td>\n",
       "      <td>0</td>\n",
       "      <td>...</td>\n",
       "      <td>0</td>\n",
       "      <td>0</td>\n",
       "      <td>0</td>\n",
       "      <td>0</td>\n",
       "      <td>1</td>\n",
       "      <td>0</td>\n",
       "      <td>0</td>\n",
       "      <td>0</td>\n",
       "      <td>0</td>\n",
       "      <td>106</td>\n",
       "    </tr>\n",
       "    <tr>\n",
       "      <th>10</th>\n",
       "      <td>1</td>\n",
       "      <td>1</td>\n",
       "      <td>0</td>\n",
       "      <td>0</td>\n",
       "      <td>0</td>\n",
       "      <td>0</td>\n",
       "      <td>1</td>\n",
       "      <td>0</td>\n",
       "      <td>0</td>\n",
       "      <td>0</td>\n",
       "      <td>...</td>\n",
       "      <td>0</td>\n",
       "      <td>0</td>\n",
       "      <td>0</td>\n",
       "      <td>0</td>\n",
       "      <td>1</td>\n",
       "      <td>0</td>\n",
       "      <td>0</td>\n",
       "      <td>0</td>\n",
       "      <td>0</td>\n",
       "      <td>401</td>\n",
       "    </tr>\n",
       "  </tbody>\n",
       "</table>\n",
       "<p>10 rows × 3707 columns</p>\n",
       "</div>"
      ],
      "text/plain": [
       "MovieID  1  2  3  4  5  6  7  8  9  10 ...   3944  3945  3946  3947  3948  \\\n",
       "UserID                                 ...                                  \n",
       "1        1  0  0  0  0  0  0  0  0   0 ...      0     0     0     0     0   \n",
       "2        0  0  0  0  0  0  0  0  0   0 ...      0     0     0     0     0   \n",
       "3        0  0  0  0  0  0  0  0  0   0 ...      0     0     0     0     0   \n",
       "4        0  0  0  0  0  0  0  0  0   0 ...      0     0     0     0     0   \n",
       "5        0  0  0  0  0  1  0  0  0   0 ...      0     0     0     0     0   \n",
       "6        1  0  0  0  0  0  0  0  0   0 ...      0     0     0     0     0   \n",
       "7        0  0  0  0  0  1  0  0  0   0 ...      0     0     0     0     0   \n",
       "8        1  0  0  1  0  0  0  0  0   0 ...      0     0     0     0     0   \n",
       "9        1  0  0  0  0  0  0  0  0   0 ...      0     0     0     0     1   \n",
       "10       1  1  0  0  0  0  1  0  0   0 ...      0     0     0     0     1   \n",
       "\n",
       "MovieID  3949  3950  3951  3952  All  \n",
       "UserID                                \n",
       "1           0     0     0     0   53  \n",
       "2           0     0     0     0  129  \n",
       "3           0     0     0     0   51  \n",
       "4           0     0     0     0   21  \n",
       "5           0     0     0     0  198  \n",
       "6           0     0     0     0   71  \n",
       "7           0     0     0     0   31  \n",
       "8           0     0     0     0  139  \n",
       "9           0     0     0     0  106  \n",
       "10          0     0     0     0  401  \n",
       "\n",
       "[10 rows x 3707 columns]"
      ]
     },
     "execution_count": 56,
     "metadata": {},
     "output_type": "execute_result"
    }
   ],
   "source": [
    "#Creating crosstab\n",
    "df= (pd.crosstab(df_ratingsc[\"UserID\"],df_ratingsc[\"MovieID\"],margins=True))\n",
    "df.drop_duplicates()\n",
    "df.head(10)"
   ]
  },
  {
   "cell_type": "code",
   "execution_count": 58,
   "metadata": {},
   "outputs": [
    {
     "name": "stdout",
     "output_type": "stream",
     "text": [
      "<class 'pandas.core.frame.DataFrame'>\n",
      "Index: 6041 entries, 1 to All\n",
      "Columns: 3707 entries, 1 to All\n",
      "dtypes: int64(3707)\n",
      "memory usage: 170.9+ MB\n"
     ]
    }
   ],
   "source": [
    "# Getting rid of double heading in dataframe by renaming index and columns - Ready to go!\n",
    "df.columns.name = 'MovieID'\n",
    "df.index.name = ''\n",
    "\n",
    "#Re assigning\n",
    "df_usermovie = df\n",
    "df_usermovie.info()"
   ]
  },
  {
   "cell_type": "markdown",
   "metadata": {},
   "source": [
    "# First thoughts on dataset exploratory analysis"
   ]
  },
  {
   "cell_type": "markdown",
   "metadata": {},
   "source": [
    "My data is related to movie content and is distributed across 3 dataframes:\n",
    "\n",
    "- Movie df where we dropped some missing values and now shows 3,686 observations aross 3 columns (MovieID, Title and Genres)\n",
    "\n",
    "- Ratings df showing 1,000,209 observations across 4 columns (UserID, MovieID, Rating, Timestamp)\n",
    "\n",
    "- Users df showing 6,040 entries across 5 columns (UserID, Gender, Age, Occupation and Zip-code)\n",
    "\n",
    "I will combine the above dataframes into one single one for easy data manipulation and analysis.\n",
    "\n",
    "In addition, I've created a frequency table for users (6,041 rows) and movies watched (3,707 columns)"
   ]
  },
  {
   "cell_type": "markdown",
   "metadata": {},
   "source": [
    "# Creating a summary table from three dataframes"
   ]
  },
  {
   "cell_type": "code",
   "execution_count": 13,
   "metadata": {},
   "outputs": [
    {
     "data": {
      "text/html": [
       "<div>\n",
       "<style scoped>\n",
       "    .dataframe tbody tr th:only-of-type {\n",
       "        vertical-align: middle;\n",
       "    }\n",
       "\n",
       "    .dataframe tbody tr th {\n",
       "        vertical-align: top;\n",
       "    }\n",
       "\n",
       "    .dataframe thead th {\n",
       "        text-align: right;\n",
       "    }\n",
       "</style>\n",
       "<table border=\"1\" class=\"dataframe\">\n",
       "  <thead>\n",
       "    <tr style=\"text-align: right;\">\n",
       "      <th></th>\n",
       "      <th>UserID</th>\n",
       "      <th>MovieID</th>\n",
       "      <th>Rating</th>\n",
       "      <th>Timestamp</th>\n",
       "      <th>Title</th>\n",
       "      <th>Genres</th>\n",
       "    </tr>\n",
       "  </thead>\n",
       "  <tbody>\n",
       "    <tr>\n",
       "      <th>0</th>\n",
       "      <td>1</td>\n",
       "      <td>1193</td>\n",
       "      <td>5</td>\n",
       "      <td>978300760</td>\n",
       "      <td>One Flew Over the Cuckoo's Nest (1975)</td>\n",
       "      <td>Drama</td>\n",
       "    </tr>\n",
       "    <tr>\n",
       "      <th>1</th>\n",
       "      <td>2</td>\n",
       "      <td>1193</td>\n",
       "      <td>5</td>\n",
       "      <td>978298413</td>\n",
       "      <td>One Flew Over the Cuckoo's Nest (1975)</td>\n",
       "      <td>Drama</td>\n",
       "    </tr>\n",
       "    <tr>\n",
       "      <th>2</th>\n",
       "      <td>12</td>\n",
       "      <td>1193</td>\n",
       "      <td>4</td>\n",
       "      <td>978220179</td>\n",
       "      <td>One Flew Over the Cuckoo's Nest (1975)</td>\n",
       "      <td>Drama</td>\n",
       "    </tr>\n",
       "    <tr>\n",
       "      <th>3</th>\n",
       "      <td>15</td>\n",
       "      <td>1193</td>\n",
       "      <td>4</td>\n",
       "      <td>978199279</td>\n",
       "      <td>One Flew Over the Cuckoo's Nest (1975)</td>\n",
       "      <td>Drama</td>\n",
       "    </tr>\n",
       "    <tr>\n",
       "      <th>4</th>\n",
       "      <td>17</td>\n",
       "      <td>1193</td>\n",
       "      <td>5</td>\n",
       "      <td>978158471</td>\n",
       "      <td>One Flew Over the Cuckoo's Nest (1975)</td>\n",
       "      <td>Drama</td>\n",
       "    </tr>\n",
       "  </tbody>\n",
       "</table>\n",
       "</div>"
      ],
      "text/plain": [
       "   UserID  MovieID  Rating  Timestamp                                   Title  \\\n",
       "0       1     1193       5  978300760  One Flew Over the Cuckoo's Nest (1975)   \n",
       "1       2     1193       5  978298413  One Flew Over the Cuckoo's Nest (1975)   \n",
       "2      12     1193       4  978220179  One Flew Over the Cuckoo's Nest (1975)   \n",
       "3      15     1193       4  978199279  One Flew Over the Cuckoo's Nest (1975)   \n",
       "4      17     1193       5  978158471  One Flew Over the Cuckoo's Nest (1975)   \n",
       "\n",
       "  Genres  \n",
       "0  Drama  \n",
       "1  Drama  \n",
       "2  Drama  \n",
       "3  Drama  \n",
       "4  Drama  "
      ]
     },
     "execution_count": 13,
     "metadata": {},
     "output_type": "execute_result"
    }
   ],
   "source": [
    "# Bringing title and genres info into ratingsc dataframe\n",
    "\n",
    "results = df_ratingsc.merge(df_moviesc, on='MovieID')\n",
    "results.head()\n",
    "#results.info()"
   ]
  },
  {
   "cell_type": "code",
   "execution_count": 14,
   "metadata": {},
   "outputs": [
    {
     "data": {
      "text/html": [
       "<div>\n",
       "<style scoped>\n",
       "    .dataframe tbody tr th:only-of-type {\n",
       "        vertical-align: middle;\n",
       "    }\n",
       "\n",
       "    .dataframe tbody tr th {\n",
       "        vertical-align: top;\n",
       "    }\n",
       "\n",
       "    .dataframe thead th {\n",
       "        text-align: right;\n",
       "    }\n",
       "</style>\n",
       "<table border=\"1\" class=\"dataframe\">\n",
       "  <thead>\n",
       "    <tr style=\"text-align: right;\">\n",
       "      <th></th>\n",
       "      <th>UserID</th>\n",
       "      <th>MovieID</th>\n",
       "      <th>Rating</th>\n",
       "      <th>Timestamp</th>\n",
       "      <th>Title</th>\n",
       "      <th>Genres</th>\n",
       "      <th>Gender</th>\n",
       "      <th>Age</th>\n",
       "      <th>Occupation</th>\n",
       "      <th>Zip-code</th>\n",
       "    </tr>\n",
       "  </thead>\n",
       "  <tbody>\n",
       "    <tr>\n",
       "      <th>0</th>\n",
       "      <td>1</td>\n",
       "      <td>1193</td>\n",
       "      <td>5</td>\n",
       "      <td>978300760</td>\n",
       "      <td>One Flew Over the Cuckoo's Nest (1975)</td>\n",
       "      <td>Drama</td>\n",
       "      <td>F</td>\n",
       "      <td>1</td>\n",
       "      <td>10</td>\n",
       "      <td>48067</td>\n",
       "    </tr>\n",
       "    <tr>\n",
       "      <th>1</th>\n",
       "      <td>1</td>\n",
       "      <td>661</td>\n",
       "      <td>3</td>\n",
       "      <td>978302109</td>\n",
       "      <td>James and the Giant Peach (1996)</td>\n",
       "      <td>Animation|Children's|Musical</td>\n",
       "      <td>F</td>\n",
       "      <td>1</td>\n",
       "      <td>10</td>\n",
       "      <td>48067</td>\n",
       "    </tr>\n",
       "    <tr>\n",
       "      <th>2</th>\n",
       "      <td>1</td>\n",
       "      <td>914</td>\n",
       "      <td>3</td>\n",
       "      <td>978301968</td>\n",
       "      <td>My Fair Lady (1964)</td>\n",
       "      <td>Musical|Romance</td>\n",
       "      <td>F</td>\n",
       "      <td>1</td>\n",
       "      <td>10</td>\n",
       "      <td>48067</td>\n",
       "    </tr>\n",
       "    <tr>\n",
       "      <th>3</th>\n",
       "      <td>1</td>\n",
       "      <td>3408</td>\n",
       "      <td>4</td>\n",
       "      <td>978300275</td>\n",
       "      <td>Erin Brockovich (2000)</td>\n",
       "      <td>Drama</td>\n",
       "      <td>F</td>\n",
       "      <td>1</td>\n",
       "      <td>10</td>\n",
       "      <td>48067</td>\n",
       "    </tr>\n",
       "    <tr>\n",
       "      <th>4</th>\n",
       "      <td>1</td>\n",
       "      <td>2355</td>\n",
       "      <td>5</td>\n",
       "      <td>978824291</td>\n",
       "      <td>Bug's Life, A (1998)</td>\n",
       "      <td>Animation|Children's|Comedy</td>\n",
       "      <td>F</td>\n",
       "      <td>1</td>\n",
       "      <td>10</td>\n",
       "      <td>48067</td>\n",
       "    </tr>\n",
       "    <tr>\n",
       "      <th>5</th>\n",
       "      <td>1</td>\n",
       "      <td>1197</td>\n",
       "      <td>3</td>\n",
       "      <td>978302268</td>\n",
       "      <td>Princess Bride, The (1987)</td>\n",
       "      <td>Action|Adventure|Comedy|Romance</td>\n",
       "      <td>F</td>\n",
       "      <td>1</td>\n",
       "      <td>10</td>\n",
       "      <td>48067</td>\n",
       "    </tr>\n",
       "    <tr>\n",
       "      <th>6</th>\n",
       "      <td>1</td>\n",
       "      <td>1287</td>\n",
       "      <td>5</td>\n",
       "      <td>978302039</td>\n",
       "      <td>Ben-Hur (1959)</td>\n",
       "      <td>Action|Adventure|Drama</td>\n",
       "      <td>F</td>\n",
       "      <td>1</td>\n",
       "      <td>10</td>\n",
       "      <td>48067</td>\n",
       "    </tr>\n",
       "    <tr>\n",
       "      <th>7</th>\n",
       "      <td>1</td>\n",
       "      <td>2804</td>\n",
       "      <td>5</td>\n",
       "      <td>978300719</td>\n",
       "      <td>Christmas Story, A (1983)</td>\n",
       "      <td>Comedy|Drama</td>\n",
       "      <td>F</td>\n",
       "      <td>1</td>\n",
       "      <td>10</td>\n",
       "      <td>48067</td>\n",
       "    </tr>\n",
       "    <tr>\n",
       "      <th>8</th>\n",
       "      <td>1</td>\n",
       "      <td>594</td>\n",
       "      <td>4</td>\n",
       "      <td>978302268</td>\n",
       "      <td>Snow White and the Seven Dwarfs (1937)</td>\n",
       "      <td>Animation|Children's|Musical</td>\n",
       "      <td>F</td>\n",
       "      <td>1</td>\n",
       "      <td>10</td>\n",
       "      <td>48067</td>\n",
       "    </tr>\n",
       "    <tr>\n",
       "      <th>9</th>\n",
       "      <td>1</td>\n",
       "      <td>919</td>\n",
       "      <td>4</td>\n",
       "      <td>978301368</td>\n",
       "      <td>Wizard of Oz, The (1939)</td>\n",
       "      <td>Adventure|Children's|Drama|Musical</td>\n",
       "      <td>F</td>\n",
       "      <td>1</td>\n",
       "      <td>10</td>\n",
       "      <td>48067</td>\n",
       "    </tr>\n",
       "  </tbody>\n",
       "</table>\n",
       "</div>"
      ],
      "text/plain": [
       "   UserID  MovieID  Rating  Timestamp                                   Title  \\\n",
       "0       1     1193       5  978300760  One Flew Over the Cuckoo's Nest (1975)   \n",
       "1       1      661       3  978302109        James and the Giant Peach (1996)   \n",
       "2       1      914       3  978301968                     My Fair Lady (1964)   \n",
       "3       1     3408       4  978300275                  Erin Brockovich (2000)   \n",
       "4       1     2355       5  978824291                    Bug's Life, A (1998)   \n",
       "5       1     1197       3  978302268              Princess Bride, The (1987)   \n",
       "6       1     1287       5  978302039                          Ben-Hur (1959)   \n",
       "7       1     2804       5  978300719               Christmas Story, A (1983)   \n",
       "8       1      594       4  978302268  Snow White and the Seven Dwarfs (1937)   \n",
       "9       1      919       4  978301368                Wizard of Oz, The (1939)   \n",
       "\n",
       "                               Genres Gender  Age  Occupation Zip-code  \n",
       "0                               Drama      F    1          10    48067  \n",
       "1        Animation|Children's|Musical      F    1          10    48067  \n",
       "2                     Musical|Romance      F    1          10    48067  \n",
       "3                               Drama      F    1          10    48067  \n",
       "4         Animation|Children's|Comedy      F    1          10    48067  \n",
       "5     Action|Adventure|Comedy|Romance      F    1          10    48067  \n",
       "6              Action|Adventure|Drama      F    1          10    48067  \n",
       "7                        Comedy|Drama      F    1          10    48067  \n",
       "8        Animation|Children's|Musical      F    1          10    48067  \n",
       "9  Adventure|Children's|Drama|Musical      F    1          10    48067  "
      ]
     },
     "execution_count": 14,
     "metadata": {},
     "output_type": "execute_result"
    }
   ],
   "source": [
    "# Bringing user demographic info into ratingsc dataframe and reassigning to dfc (dataframe 'cleaned')\n",
    "\n",
    "dfc = results.merge(df_usersc, on='UserID')\n",
    "dfc.head(10)"
   ]
  },
  {
   "cell_type": "code",
   "execution_count": 15,
   "metadata": {},
   "outputs": [
    {
     "data": {
      "text/plain": [
       "False"
      ]
     },
     "execution_count": 15,
     "metadata": {},
     "output_type": "execute_result"
    }
   ],
   "source": [
    "# Checking for missing values in cleaned dataframe - Good to go!\n",
    "dfc.isnull().values.any()"
   ]
  },
  {
   "cell_type": "markdown",
   "metadata": {},
   "source": [
    "# More exploratory analysis on data (dfc and df_usermovie frequency table)"
   ]
  },
  {
   "cell_type": "code",
   "execution_count": 16,
   "metadata": {},
   "outputs": [
    {
     "data": {
      "text/html": [
       "<div>\n",
       "<style scoped>\n",
       "    .dataframe tbody tr th:only-of-type {\n",
       "        vertical-align: middle;\n",
       "    }\n",
       "\n",
       "    .dataframe tbody tr th {\n",
       "        vertical-align: top;\n",
       "    }\n",
       "\n",
       "    .dataframe thead th {\n",
       "        text-align: right;\n",
       "    }\n",
       "</style>\n",
       "<table border=\"1\" class=\"dataframe\">\n",
       "  <thead>\n",
       "    <tr style=\"text-align: right;\">\n",
       "      <th></th>\n",
       "      <th>UserID</th>\n",
       "      <th>MovieID</th>\n",
       "      <th>Rating</th>\n",
       "      <th>Timestamp</th>\n",
       "      <th>Title</th>\n",
       "      <th>Genres</th>\n",
       "      <th>Gender</th>\n",
       "      <th>Age</th>\n",
       "      <th>Occupation</th>\n",
       "      <th>Zip-code</th>\n",
       "    </tr>\n",
       "  </thead>\n",
       "  <tbody>\n",
       "    <tr>\n",
       "      <th>0</th>\n",
       "      <td>1</td>\n",
       "      <td>1193</td>\n",
       "      <td>5</td>\n",
       "      <td>978300760</td>\n",
       "      <td>One Flew Over the Cuckoo's Nest (1975)</td>\n",
       "      <td>Drama</td>\n",
       "      <td>F</td>\n",
       "      <td>1</td>\n",
       "      <td>10</td>\n",
       "      <td>48067</td>\n",
       "    </tr>\n",
       "    <tr>\n",
       "      <th>1</th>\n",
       "      <td>1</td>\n",
       "      <td>661</td>\n",
       "      <td>3</td>\n",
       "      <td>978302109</td>\n",
       "      <td>James and the Giant Peach (1996)</td>\n",
       "      <td>Animation|Children's|Musical</td>\n",
       "      <td>F</td>\n",
       "      <td>1</td>\n",
       "      <td>10</td>\n",
       "      <td>48067</td>\n",
       "    </tr>\n",
       "    <tr>\n",
       "      <th>2</th>\n",
       "      <td>1</td>\n",
       "      <td>914</td>\n",
       "      <td>3</td>\n",
       "      <td>978301968</td>\n",
       "      <td>My Fair Lady (1964)</td>\n",
       "      <td>Musical|Romance</td>\n",
       "      <td>F</td>\n",
       "      <td>1</td>\n",
       "      <td>10</td>\n",
       "      <td>48067</td>\n",
       "    </tr>\n",
       "    <tr>\n",
       "      <th>3</th>\n",
       "      <td>1</td>\n",
       "      <td>3408</td>\n",
       "      <td>4</td>\n",
       "      <td>978300275</td>\n",
       "      <td>Erin Brockovich (2000)</td>\n",
       "      <td>Drama</td>\n",
       "      <td>F</td>\n",
       "      <td>1</td>\n",
       "      <td>10</td>\n",
       "      <td>48067</td>\n",
       "    </tr>\n",
       "    <tr>\n",
       "      <th>4</th>\n",
       "      <td>1</td>\n",
       "      <td>2355</td>\n",
       "      <td>5</td>\n",
       "      <td>978824291</td>\n",
       "      <td>Bug's Life, A (1998)</td>\n",
       "      <td>Animation|Children's|Comedy</td>\n",
       "      <td>F</td>\n",
       "      <td>1</td>\n",
       "      <td>10</td>\n",
       "      <td>48067</td>\n",
       "    </tr>\n",
       "  </tbody>\n",
       "</table>\n",
       "</div>"
      ],
      "text/plain": [
       "   UserID  MovieID  Rating  Timestamp                                   Title  \\\n",
       "0       1     1193       5  978300760  One Flew Over the Cuckoo's Nest (1975)   \n",
       "1       1      661       3  978302109        James and the Giant Peach (1996)   \n",
       "2       1      914       3  978301968                     My Fair Lady (1964)   \n",
       "3       1     3408       4  978300275                  Erin Brockovich (2000)   \n",
       "4       1     2355       5  978824291                    Bug's Life, A (1998)   \n",
       "\n",
       "                         Genres Gender  Age  Occupation Zip-code  \n",
       "0                         Drama      F    1          10    48067  \n",
       "1  Animation|Children's|Musical      F    1          10    48067  \n",
       "2               Musical|Romance      F    1          10    48067  \n",
       "3                         Drama      F    1          10    48067  \n",
       "4   Animation|Children's|Comedy      F    1          10    48067  "
      ]
     },
     "execution_count": 16,
     "metadata": {},
     "output_type": "execute_result"
    }
   ],
   "source": [
    "# Having a quick look at data in our variables with descriptive statistics \n",
    "dfc.head()\n",
    "#Variables: Rating, Title, Genres, Gender,Age, Ocupation,Zip-code"
   ]
  },
  {
   "cell_type": "code",
   "execution_count": 75,
   "metadata": {},
   "outputs": [
    {
     "name": "stdout",
     "output_type": "stream",
     "text": [
      "<class 'pandas.core.frame.DataFrame'>\n",
      "Int64Index: 936381 entries, 0 to 936380\n",
      "Data columns (total 10 columns):\n",
      "UserID        936381 non-null int64\n",
      "MovieID       936381 non-null int64\n",
      "Rating        936381 non-null int64\n",
      "Timestamp     936381 non-null int64\n",
      "Title         936381 non-null object\n",
      "Genres        936381 non-null object\n",
      "Gender        936381 non-null object\n",
      "Age           936381 non-null int64\n",
      "Occupation    936381 non-null int64\n",
      "Zip-code      936381 non-null object\n",
      "dtypes: int64(6), object(4)\n",
      "memory usage: 78.6+ MB\n"
     ]
    }
   ],
   "source": [
    "# My dataframe contains integers and some object data types and a total of 936,381 rows and 10 columns\n",
    "dfc.info()"
   ]
  },
  {
   "cell_type": "markdown",
   "metadata": {},
   "source": [
    "# Ratings"
   ]
  },
  {
   "cell_type": "code",
   "execution_count": 17,
   "metadata": {},
   "outputs": [
    {
     "data": {
      "text/plain": [
       "count    936381.000000\n",
       "mean          3.593489\n",
       "std           1.106080\n",
       "min           1.000000\n",
       "25%           3.000000\n",
       "50%           4.000000\n",
       "75%           4.000000\n",
       "max           5.000000\n",
       "Name: Rating, dtype: float64"
      ]
     },
     "execution_count": 17,
     "metadata": {},
     "output_type": "execute_result"
    }
   ],
   "source": [
    "#Descriptive statistics\n",
    "dfc.Rating.describe()"
   ]
  },
  {
   "cell_type": "markdown",
   "metadata": {},
   "source": [
    "Users seem happy with the movies they watch in general because ratings are generous \n",
    "with the mean sitting at 3.59 out of 5 scale and half the movies have a rating of 4.\n",
    "We don't seem to have outliers (standard deviation is under 3)"
   ]
  },
  {
   "cell_type": "code",
   "execution_count": 18,
   "metadata": {},
   "outputs": [
    {
     "data": {
      "text/plain": [
       "<matplotlib.axes._subplots.AxesSubplot at 0x21e5bf940f0>"
      ]
     },
     "execution_count": 18,
     "metadata": {},
     "output_type": "execute_result"
    },
    {
     "data": {
      "image/png": "[encoded data removed]",
      "text/plain": [
       "<matplotlib.figure.Figure at 0x21e57344358>"
      ]
     },
     "metadata": {},
     "output_type": "display_data"
    }
   ],
   "source": [
    "# Plotting data to see how ratings are distributed\n",
    "dfc.Rating.hist()"
   ]
  },
  {
   "cell_type": "code",
   "execution_count": 19,
   "metadata": {},
   "outputs": [
    {
     "data": {
      "text/plain": [
       "<matplotlib.axes._subplots.AxesSubplot at 0x21e093a66d8>"
      ]
     },
     "execution_count": 19,
     "metadata": {},
     "output_type": "execute_result"
    },
    {
     "data": {
      "image/png": "[encoded data removed]",
      "text/plain": [
       "<matplotlib.figure.Figure at 0x21e5732f978>"
      ]
     },
     "metadata": {},
     "output_type": "display_data"
    }
   ],
   "source": [
    "# Display distribution of rating\n",
    "sns.set_style('whitegrid')\n",
    "sns.set(font_scale=1.5)\n",
    "\n",
    "sns.distplot(dfc['Rating'].fillna(dfc['Rating'].median()))"
   ]
  },
  {
   "cell_type": "markdown",
   "metadata": {},
   "source": [
    "Users mainly gave movies ratings of 3, 4 or 5 so our rantings data distribution is skewed towards the right.\n",
    "\n",
    "Each user rated at least 20 movies so there could be other factors influencing the positiveness of movie ratings (e.g. rating scale used being understood by users differently, orientation of scale influencing their rating behaviour..) and therefore having an impact on the rating distribution in addition to the quality of movies."
   ]
  },
  {
   "cell_type": "code",
   "execution_count": 20,
   "metadata": {},
   "outputs": [
    {
     "data": {
      "text/html": [
       "<div>\n",
       "<style scoped>\n",
       "    .dataframe tbody tr th:only-of-type {\n",
       "        vertical-align: middle;\n",
       "    }\n",
       "\n",
       "    .dataframe tbody tr th {\n",
       "        vertical-align: top;\n",
       "    }\n",
       "\n",
       "    .dataframe thead th {\n",
       "        text-align: right;\n",
       "    }\n",
       "</style>\n",
       "<table border=\"1\" class=\"dataframe\">\n",
       "  <thead>\n",
       "    <tr style=\"text-align: right;\">\n",
       "      <th></th>\n",
       "      <th>Title</th>\n",
       "      <th>Genres</th>\n",
       "      <th>Rating</th>\n",
       "    </tr>\n",
       "  </thead>\n",
       "  <tbody>\n",
       "    <tr>\n",
       "      <th>0</th>\n",
       "      <td>One Flew Over the Cuckoo's Nest (1975)</td>\n",
       "      <td>Drama</td>\n",
       "      <td>5</td>\n",
       "    </tr>\n",
       "    <tr>\n",
       "      <th>304457</th>\n",
       "      <td>Seven Years in Tibet (1997)</td>\n",
       "      <td>Drama|War</td>\n",
       "      <td>5</td>\n",
       "    </tr>\n",
       "    <tr>\n",
       "      <th>304473</th>\n",
       "      <td>Apollo 13 (1995)</td>\n",
       "      <td>Drama</td>\n",
       "      <td>5</td>\n",
       "    </tr>\n",
       "    <tr>\n",
       "      <th>304469</th>\n",
       "      <td>Wizard of Oz, The (1939)</td>\n",
       "      <td>Adventure|Children's|Drama|Musical</td>\n",
       "      <td>5</td>\n",
       "    </tr>\n",
       "    <tr>\n",
       "      <th>304468</th>\n",
       "      <td>Christmas Story, A (1983)</td>\n",
       "      <td>Comedy|Drama</td>\n",
       "      <td>5</td>\n",
       "    </tr>\n",
       "    <tr>\n",
       "      <th>304467</th>\n",
       "      <td>Ben-Hur (1959)</td>\n",
       "      <td>Action|Adventure|Drama</td>\n",
       "      <td>5</td>\n",
       "    </tr>\n",
       "    <tr>\n",
       "      <th>304465</th>\n",
       "      <td>One Flew Over the Cuckoo's Nest (1975)</td>\n",
       "      <td>Drama</td>\n",
       "      <td>5</td>\n",
       "    </tr>\n",
       "    <tr>\n",
       "      <th>698909</th>\n",
       "      <td>Better Living Through Circuitry (1999)</td>\n",
       "      <td>Documentary</td>\n",
       "      <td>5</td>\n",
       "    </tr>\n",
       "    <tr>\n",
       "      <th>304458</th>\n",
       "      <td>Devil's Advocate, The (1997)</td>\n",
       "      <td>Crime|Horror|Mystery|Thriller</td>\n",
       "      <td>5</td>\n",
       "    </tr>\n",
       "    <tr>\n",
       "      <th>304454</th>\n",
       "      <td>Starship Troopers (1997)</td>\n",
       "      <td>Action|Adventure|Sci-Fi|War</td>\n",
       "      <td>5</td>\n",
       "    </tr>\n",
       "    <tr>\n",
       "      <th>698913</th>\n",
       "      <td>Princess Bride, The (1987)</td>\n",
       "      <td>Action|Adventure|Comedy|Romance</td>\n",
       "      <td>5</td>\n",
       "    </tr>\n",
       "    <tr>\n",
       "      <th>304453</th>\n",
       "      <td>Sleepless in Seattle (1993)</td>\n",
       "      <td>Comedy|Romance</td>\n",
       "      <td>5</td>\n",
       "    </tr>\n",
       "    <tr>\n",
       "      <th>304452</th>\n",
       "      <td>Mr. Holland's Opus (1995)</td>\n",
       "      <td>Drama</td>\n",
       "      <td>5</td>\n",
       "    </tr>\n",
       "    <tr>\n",
       "      <th>304448</th>\n",
       "      <td>Chasing Amy (1997)</td>\n",
       "      <td>Drama|Romance</td>\n",
       "      <td>5</td>\n",
       "    </tr>\n",
       "    <tr>\n",
       "      <th>698912</th>\n",
       "      <td>Bug's Life, A (1998)</td>\n",
       "      <td>Animation|Children's|Comedy</td>\n",
       "      <td>5</td>\n",
       "    </tr>\n",
       "    <tr>\n",
       "      <th>304446</th>\n",
       "      <td>Devil's Own, The (1997)</td>\n",
       "      <td>Action|Drama|Thriller|War</td>\n",
       "      <td>5</td>\n",
       "    </tr>\n",
       "    <tr>\n",
       "      <th>304444</th>\n",
       "      <td>Truman Show, The (1998)</td>\n",
       "      <td>Drama</td>\n",
       "      <td>5</td>\n",
       "    </tr>\n",
       "    <tr>\n",
       "      <th>304443</th>\n",
       "      <td>Jerry Maguire (1996)</td>\n",
       "      <td>Drama|Romance</td>\n",
       "      <td>5</td>\n",
       "    </tr>\n",
       "    <tr>\n",
       "      <th>304476</th>\n",
       "      <td>To Kill a Mockingbird (1962)</td>\n",
       "      <td>Drama</td>\n",
       "      <td>5</td>\n",
       "    </tr>\n",
       "    <tr>\n",
       "      <th>304477</th>\n",
       "      <td>Saving Private Ryan (1998)</td>\n",
       "      <td>Action|Drama|War</td>\n",
       "      <td>5</td>\n",
       "    </tr>\n",
       "  </tbody>\n",
       "</table>\n",
       "</div>"
      ],
      "text/plain": [
       "                                         Title  \\\n",
       "0       One Flew Over the Cuckoo's Nest (1975)   \n",
       "304457             Seven Years in Tibet (1997)   \n",
       "304473                        Apollo 13 (1995)   \n",
       "304469                Wizard of Oz, The (1939)   \n",
       "304468               Christmas Story, A (1983)   \n",
       "304467                          Ben-Hur (1959)   \n",
       "304465  One Flew Over the Cuckoo's Nest (1975)   \n",
       "698909  Better Living Through Circuitry (1999)   \n",
       "304458            Devil's Advocate, The (1997)   \n",
       "304454                Starship Troopers (1997)   \n",
       "698913              Princess Bride, The (1987)   \n",
       "304453             Sleepless in Seattle (1993)   \n",
       "304452               Mr. Holland's Opus (1995)   \n",
       "304448                      Chasing Amy (1997)   \n",
       "698912                    Bug's Life, A (1998)   \n",
       "304446                 Devil's Own, The (1997)   \n",
       "304444                 Truman Show, The (1998)   \n",
       "304443                    Jerry Maguire (1996)   \n",
       "304476            To Kill a Mockingbird (1962)   \n",
       "304477              Saving Private Ryan (1998)   \n",
       "\n",
       "                                    Genres  Rating  \n",
       "0                                    Drama       5  \n",
       "304457                           Drama|War       5  \n",
       "304473                               Drama       5  \n",
       "304469  Adventure|Children's|Drama|Musical       5  \n",
       "304468                        Comedy|Drama       5  \n",
       "304467              Action|Adventure|Drama       5  \n",
       "304465                               Drama       5  \n",
       "698909                         Documentary       5  \n",
       "304458       Crime|Horror|Mystery|Thriller       5  \n",
       "304454         Action|Adventure|Sci-Fi|War       5  \n",
       "698913     Action|Adventure|Comedy|Romance       5  \n",
       "304453                      Comedy|Romance       5  \n",
       "304452                               Drama       5  \n",
       "304448                       Drama|Romance       5  \n",
       "698912         Animation|Children's|Comedy       5  \n",
       "304446           Action|Drama|Thriller|War       5  \n",
       "304444                               Drama       5  \n",
       "304443                       Drama|Romance       5  \n",
       "304476                               Drama       5  \n",
       "304477                    Action|Drama|War       5  "
      ]
     },
     "execution_count": 20,
     "metadata": {},
     "output_type": "execute_result"
    }
   ],
   "source": [
    "# Displaying 20 movies with the highest ratings\n",
    "dfc[['Title','Genres','Rating']].sort_values('Rating', ascending=False).head(20)"
   ]
  },
  {
   "cell_type": "code",
   "execution_count": 21,
   "metadata": {},
   "outputs": [
    {
     "data": {
      "text/plain": [
       "-0.5563443959618599"
      ]
     },
     "execution_count": 21,
     "metadata": {},
     "output_type": "execute_result"
    }
   ],
   "source": [
    "# Rating skewness  \n",
    "dfc.Rating.skew()"
   ]
  },
  {
   "cell_type": "code",
   "execution_count": 38,
   "metadata": {},
   "outputs": [
    {
     "data": {
      "text/plain": [
       "-0.3246913073388673"
      ]
     },
     "execution_count": 38,
     "metadata": {},
     "output_type": "execute_result"
    }
   ],
   "source": [
    "# Rating kurtosis\n",
    "dfc.Rating.kurt()"
   ]
  },
  {
   "cell_type": "code",
   "execution_count": 22,
   "metadata": {},
   "outputs": [
    {
     "data": {
      "text/plain": [
       "<matplotlib.axes._subplots.AxesSubplot at 0x21e094d5ac8>"
      ]
     },
     "execution_count": 22,
     "metadata": {},
     "output_type": "execute_result"
    },
    {
     "data": {
      "image/png": "[encoded data removed]",
      "text/plain": [
       "<matplotlib.figure.Figure at 0x21e5b0d5198>"
      ]
     },
     "metadata": {},
     "output_type": "display_data"
    }
   ],
   "source": [
    "#Rating boxplot\n",
    "dfc.Rating.plot(kind='box')"
   ]
  },
  {
   "cell_type": "markdown",
   "metadata": {},
   "source": [
    "Our ratings distribution is negatively skewed (skew= -0.56) and shows a 'flat-ish' shape (smooth bell shape with light tails) in relation to a normal distribution (kurtosis =-0.32)\n",
    "\n",
    "Our box plot shows no outliers (this is after I removed an outlier found and as explained in subsequent steps in this notebook)\n",
    "and an important concentration of values making the distribution skewed towards the right side as explained"
   ]
  },
  {
   "cell_type": "markdown",
   "metadata": {},
   "source": [
    "# Titles"
   ]
  },
  {
   "cell_type": "code",
   "execution_count": 24,
   "metadata": {},
   "outputs": [
    {
     "data": {
      "image/png": "[encoded data removed]",
      "text/plain": [
       "<matplotlib.figure.Figure at 0x21e08f922e8>"
      ]
     },
     "metadata": {},
     "output_type": "display_data"
    }
   ],
   "source": [
    "#Making a wordcloud from movie titles to have an overview of most popular movies\n",
    "\n",
    "import wordcloud\n",
    "from wordcloud import WordCloud, STOPWORDS\n",
    "\n",
    "# Create a wordcloud of the movie titles\n",
    "dfc['Title'] = dfc['Title'].fillna(\"\").astype('str')\n",
    "title_corpus = ' '.join(dfc['Title'])\n",
    "title_wordcloud = WordCloud(stopwords=STOPWORDS, background_color='black', height=2000, width=4000).generate(title_corpus)\n",
    "\n",
    "# Plot the wordcloud\n",
    "plt.figure(figsize=(16,8))\n",
    "plt.imshow(title_wordcloud)\n",
    "plt.axis('off')\n",
    "plt.show()"
   ]
  },
  {
   "cell_type": "markdown",
   "metadata": {},
   "source": [
    "I do not expect movie titles to be a significant variable in my analysis and only exploring to have a general idea of the information included in the variable"
   ]
  },
  {
   "cell_type": "code",
   "execution_count": 25,
   "metadata": {},
   "outputs": [
    {
     "data": {
      "text/plain": [
       "array(['Drama', \"Animation|Children's|Musical\", 'Musical|Romance',\n",
       "       \"Animation|Children's|Comedy\", 'Action|Adventure|Comedy|Romance',\n",
       "       'Action|Adventure|Drama', 'Comedy|Drama',\n",
       "       \"Adventure|Children's|Drama|Musical\", 'Musical', 'Comedy',\n",
       "       \"Animation|Children's\", 'Comedy|Fantasy', 'Comedy|Sci-Fi',\n",
       "       'Drama|War', 'Romance', \"Animation|Children's|Musical|Romance\",\n",
       "       \"Children's|Drama|Fantasy|Sci-Fi\", 'Drama|Romance',\n",
       "       'Animation|Comedy|Thriller',\n",
       "       \"Adventure|Animation|Children's|Comedy|Musical\",\n",
       "       \"Animation|Children's|Comedy|Musical\", 'Thriller',\n",
       "       'Action|Crime|Romance', \"Children's|Comedy|Musical\",\n",
       "       'Action|Drama|War', \"Children's|Drama\", 'Crime|Drama|Thriller',\n",
       "       'Action|Crime|Drama', 'Crime|Drama',\n",
       "       'Action|Adventure|Sci-Fi|Thriller', 'Action|Thriller',\n",
       "       'Action|Drama', 'Comedy|Drama|Western', 'Action|Adventure|Crime',\n",
       "       'Action|Crime|Mystery|Thriller', 'Comedy|Drama|Romance',\n",
       "       'Comedy|Drama|War', 'Drama|Sci-Fi', 'Action|Drama|Thriller',\n",
       "       'Action|Comedy|Western', 'Adventure|Comedy|Drama',\n",
       "       'Drama|Thriller', 'Comedy|Romance',\n",
       "       'Action|Drama|Romance|Thriller', 'Action|Crime|Thriller',\n",
       "       'Action|Sci-Fi', 'Action|Romance|War',\n",
       "       'Adventure|Drama|Romance|Sci-Fi', 'Action|Adventure|Sci-Fi',\n",
       "       'Drama|Romance|War', 'Action|Drama|Romance',\n",
       "       'Crime|Drama|Film-Noir|Thriller', 'Adventure|Drama|Western',\n",
       "       'Action|Adventure|Thriller', 'Action|Adventure|Romance|Thriller',\n",
       "       'Action|Adventure', 'Comedy|Horror', 'Action|Sci-Fi|Thriller',\n",
       "       'Action|Crime|Drama|Thriller', 'Action|Mystery|Romance|Thriller',\n",
       "       'Action|Romance|Thriller', 'Action|Comedy|Drama', 'Action',\n",
       "       'Action|Sci-Fi|War', 'Action|Comedy|Crime|Drama',\n",
       "       'Action|Adventure|Romance', 'Comedy|Romance|War',\n",
       "       'Comedy|Thriller', 'Action|Crime', 'Film-Noir|Mystery|Thriller',\n",
       "       'Comedy|Crime|Drama', 'Sci-Fi', 'Adventure', 'Crime',\n",
       "       'Adventure|Thriller', 'Action|Adventure|Fantasy',\n",
       "       'Action|Adventure|Comedy|Sci-Fi',\n",
       "       'Action|Adventure|Horror|Thriller', 'Crime|Thriller',\n",
       "       'Crime|Film-Noir|Mystery|Thriller', 'Horror|Romance',\n",
       "       'Drama|Mystery', 'Drama|Mystery|Thriller', 'Comedy|Crime',\n",
       "       'Comedy|Crime|Mystery|Thriller', 'Horror',\n",
       "       'Drama|Romance|War|Western', 'Drama|Thriller|War', 'Drama|Musical',\n",
       "       'Comedy|Crime|Fantasy', 'Comedy|Romance|Thriller',\n",
       "       \"Adventure|Children's|Fantasy\", 'Action|Horror|Thriller',\n",
       "       'Adventure|Fantasy', 'Comedy|Fantasy|Romance|Sci-Fi',\n",
       "       'Action|Drama|Mystery', 'Horror|Thriller',\n",
       "       'Action|Adventure|Mystery|Sci-Fi', 'Mystery|Thriller',\n",
       "       'Adventure|Drama|Thriller', 'Comedy|Horror|Thriller',\n",
       "       'Crime|Drama|Sci-Fi', \"Children's|Comedy|Fantasy\",\n",
       "       'Action|Comedy|Crime|Horror|Thriller', 'Horror|Mystery|Thriller',\n",
       "       'Crime|Horror|Mystery|Thriller', 'Crime|Horror|Thriller',\n",
       "       'Western', 'Crime|Drama|Mystery|Thriller', 'Animation|Musical',\n",
       "       'Action|Horror|Sci-Fi|Thriller', 'Crime|Drama|Romance|Thriller',\n",
       "       'Documentary', 'Sci-Fi|Thriller', 'Horror|Sci-Fi',\n",
       "       'Drama|Sci-Fi|Thriller', 'Film-Noir|Mystery',\n",
       "       \"Children's|Comedy|Drama\", 'Adventure|Animation|Sci-Fi|Thriller',\n",
       "       'Animation|Sci-Fi', \"Children's|Fantasy|Sci-Fi\",\n",
       "       'Comedy|Horror|Musical|Sci-Fi',\n",
       "       \"Adventure|Children's|Fantasy|Sci-Fi\",\n",
       "       'Action|Sci-Fi|Thriller|War', 'Adventure|Comedy|Sci-Fi',\n",
       "       'Action|Adventure|Comedy|Horror|Sci-Fi', 'Film-Noir|Sci-Fi',\n",
       "       'Fantasy|Sci-Fi', 'Action|Adventure|Fantasy|Sci-Fi',\n",
       "       \"Adventure|Children's|Sci-Fi\", 'Adventure|Animation|Sci-Fi',\n",
       "       'Adventure|Romance|Sci-Fi', 'Crime|Drama|Film-Noir',\n",
       "       'Horror|Sci-Fi|Thriller', 'Adventure|Sci-Fi|Thriller',\n",
       "       'Drama|Fantasy|Romance|Thriller', 'Mystery|Sci-Fi',\n",
       "       'Action|Crime|Sci-Fi', 'Comedy|Mystery', 'Adventure|Drama',\n",
       "       'Action|Romance|Sci-Fi', 'Action|Horror|Sci-Fi',\n",
       "       'Crime|Film-Noir|Mystery', 'Comedy|Drama|Sci-Fi',\n",
       "       'Sci-Fi|Thriller|War', 'Film-Noir|Thriller',\n",
       "       'Action|Adventure|Animation|Horror|Sci-Fi',\n",
       "       'Action|Sci-Fi|Thriller|Western', 'Comedy|Horror|Sci-Fi',\n",
       "       'Crime|Film-Noir|Thriller', 'Comedy|Crime|Thriller',\n",
       "       'Film-Noir|Sci-Fi|Thriller', 'Adventure|Sci-Fi',\n",
       "       \"Adventure|Animation|Children's|Sci-Fi\", 'Action|Adventure|Comedy',\n",
       "       'Action|Adventure|Horror', 'Adventure|Comedy',\n",
       "       \"Animation|Children's|Comedy|Musical|Romance\", 'Action|Western',\n",
       "       'Action|Horror', 'Adventure|Animation|Film-Noir',\n",
       "       'Drama|Romance|Thriller', \"Children's|Comedy\",\n",
       "       'Comedy|Fantasy|Romance', 'Comedy|Crime|Drama|Mystery',\n",
       "       \"Adventure|Children's|Comedy|Fantasy|Sci-Fi\",\n",
       "       \"Action|Children's|Fantasy\", 'Action|Adventure|Comedy|Crime',\n",
       "       'Action|Adventure|Crime|Drama',\n",
       "       \"Animation|Children's|Fantasy|Musical\",\n",
       "       'Action|Adventure|Romance|War', 'Action|Drama|Fantasy|Romance',\n",
       "       \"Adventure|Children's|Comedy|Fantasy\",\n",
       "       'Action|Adventure|Sci-Fi|War', 'Adventure|Fantasy|Romance',\n",
       "       'Adventure|Western', \"Adventure|Children's\",\n",
       "       'Action|Adventure|Mystery', 'Action|Sci-Fi|Western',\n",
       "       'Action|Adventure|Drama|Romance', \"Children's|Musical\",\n",
       "       'Action|Comedy|Musical|Sci-Fi', 'Action|Drama|Sci-Fi|Thriller',\n",
       "       'Action|Comedy|Fantasy', 'Action|War', 'Action|Comedy|Sci-Fi|War',\n",
       "       'Comedy|Crime|Horror', 'Action|Comedy|War',\n",
       "       \"Action|Adventure|Children's|Sci-Fi\", 'Action|Comedy',\n",
       "       'Action|Adventure|Comedy|Horror', 'Action|Comedy|Sci-Fi|Thriller',\n",
       "       'Animation|Comedy', 'Comedy|Horror|Musical',\n",
       "       'Action|Comedy|Musical', 'Adventure|War', 'Drama|Horror',\n",
       "       \"Action|Adventure|Children's|Comedy\", 'Comedy|Documentary',\n",
       "       'Comedy|Drama|Musical', 'Action|Adventure|Animation',\n",
       "       'Action|Adventure|Western', 'Comedy|Musical|Romance',\n",
       "       'Comedy|Western', 'Film-Noir|Romance|Thriller', 'Comedy|Musical',\n",
       "       'Romance|Thriller', 'Action|Romance', 'Comedy|Mystery|Thriller',\n",
       "       'Comedy|War', 'Crime|Film-Noir', 'Mystery|Romance|Thriller',\n",
       "       'Drama|Film-Noir', 'Film-Noir', 'Mystery',\n",
       "       'Action|Adventure|Drama|Thriller', 'Musical|Romance|War',\n",
       "       'Comedy|Sci-Fi|Western', 'Adventure|Fantasy|Sci-Fi',\n",
       "       'Adventure|Crime|Sci-Fi|Thriller', 'Comedy|Romance|Sci-Fi',\n",
       "       'Action|Mystery|Sci-Fi|Thriller',\n",
       "       \"Adventure|Animation|Children's|Musical\",\n",
       "       \"Children's|Fantasy|Musical\", 'Adventure|Musical',\n",
       "       'Action|Mystery|Thriller', 'Drama|Mystery|Romance',\n",
       "       \"Children's|Horror\", 'Adventure|Musical|Romance', \"Children's\",\n",
       "       \"Adventure|Children's|Comedy|Musical\", \"Children's|Comedy|Western\",\n",
       "       'Action|Drama|Thriller|War', 'War', 'Adventure|Romance',\n",
       "       \"Animation|Children's|Fantasy|War\", \"Children's|Comedy|Sci-Fi\",\n",
       "       \"Adventure|Animation|Children's|Comedy|Fantasy\",\n",
       "       'Adventure|Drama|Romance', 'Adventure|Comedy|Musical',\n",
       "       'Action|Thriller|War', 'Adventure|Comedy|Romance', 'Romance|War',\n",
       "       \"Adventure|Children's|Comedy\", 'Action|Drama|Western',\n",
       "       \"Animation|Children's|Comedy|Romance\", 'Comedy|Mystery|Romance',\n",
       "       'Crime|Drama|Mystery', \"Animation|Children's|Drama|Fantasy\",\n",
       "       \"Children's|Sci-Fi\", \"Adventure|Children's|Musical\",\n",
       "       'Crime|Drama|Romance', 'Action|Adventure|Sci-Fi|Thriller|War',\n",
       "       'Action|Comedy|Romance|Thriller', 'Action|Crime|Mystery',\n",
       "       'Comedy|Drama|Thriller', 'Drama|Musical|War',\n",
       "       'Action|Drama|Mystery|Romance|Thriller', 'Drama|Western',\n",
       "       'Musical|War', \"Adventure|Children's|Drama\", 'Documentary|Drama',\n",
       "       \"Children's|Comedy|Mystery\", 'Documentary|War',\n",
       "       'Documentary|Musical', 'Comedy|Mystery|Romance|Thriller',\n",
       "       \"Action|Children's\", 'Drama|Fantasy',\n",
       "       \"Adventure|Children's|Romance\",\n",
       "       \"Action|Adventure|Animation|Children's|Fantasy\", 'Crime|Mystery',\n",
       "       'Drama|Romance|Sci-Fi', 'Drama|Horror|Thriller',\n",
       "       'Action|Adventure|War', \"Adventure|Animation|Children's\",\n",
       "       'Action|Adventure|Crime|Thriller', 'Action|Comedy|Crime',\n",
       "       'Drama|Film-Noir|Thriller', \"Adventure|Children's|Drama|Romance\",\n",
       "       'Action|Adventure|Comedy|War',\n",
       "       \"Action|Adventure|Children's|Fantasy\",\n",
       "       \"Adventure|Children's|Comedy|Fantasy|Romance\", 'Horror|Mystery',\n",
       "       'Comedy|Film-Noir|Thriller', 'Animation|Mystery',\n",
       "       \"Children's|Fantasy\", \"Children's|Drama|Fantasy\", 'Animation',\n",
       "       'Drama|Romance|Western', 'Fantasy', 'Romance|Western',\n",
       "       \"Adventure|Animation|Children's|Fantasy\", 'Film-Noir|Horror'],\n",
       "      dtype=object)"
      ]
     },
     "execution_count": 25,
     "metadata": {},
     "output_type": "execute_result"
    }
   ],
   "source": [
    "#While investigating word cloud results I came across an incorrect genre for movies: 'Miami Beach (1988)' \n",
    "\n",
    "#I went back to the beggining of my exploratory analysis and drop this observation too - Good to go!\n",
    "dfc.Genres.unique()"
   ]
  },
  {
   "cell_type": "markdown",
   "metadata": {},
   "source": [
    "# Genres"
   ]
  },
  {
   "cell_type": "markdown",
   "metadata": {},
   "source": [
    "The genres variable will surely be important while building the recommendation engine since it describes the content of the film. I will look into which genres are the most popular and visualize findings."
   ]
  },
  {
   "cell_type": "code",
   "execution_count": 29,
   "metadata": {},
   "outputs": [],
   "source": [
    "# Make a census of the genre keywords\n",
    "genre_labels = set()\n",
    "for s in dfc['Genres'].str.split('|').values:\n",
    "    genre_labels = genre_labels.union(set(s))\n"
   ]
  },
  {
   "cell_type": "code",
   "execution_count": 31,
   "metadata": {},
   "outputs": [],
   "source": [
    "# Function that counts the number of times each of the genre keywords appear\n",
    "\n",
    "def count_word(dataset, ref_col, census):\n",
    "    keyword_count = dict()\n",
    "    for s in census: \n",
    "        keyword_count[s] = 0\n",
    "    for census_keywords in dataset[ref_col].str.split('|'):        \n",
    "        if type(census_keywords) == float and pd.isnull(census_keywords): \n",
    "            continue        \n",
    "        for s in [s for s in census_keywords if s in census]: \n",
    "            if pd.notnull(s): \n",
    "                keyword_count[s] += 1\n",
    " # convert the dictionary in a list to sort the keywords by frequency\n",
    "    keyword_occurences = []\n",
    "    for k,v in keyword_count.items():\n",
    "        keyword_occurences.append([k,v])\n",
    "    keyword_occurences.sort(key = lambda x:x[1], reverse = True)\n",
    "    return keyword_occurences, keyword_count"
   ]
  },
  {
   "cell_type": "code",
   "execution_count": 32,
   "metadata": {},
   "outputs": [],
   "source": [
    "# Calling this function gives access to a list of genre keywords which are sorted by decreasing frequency\n",
    "keyword_occurences, dum = count_word(dfc, 'Genres', genre_labels)\n"
   ]
  },
  {
   "cell_type": "code",
   "execution_count": 33,
   "metadata": {},
   "outputs": [
    {
     "data": {
      "text/plain": [
       "[['Drama', 343343],\n",
       " ['Comedy', 343194],\n",
       " ['Action', 223137],\n",
       " ['Thriller', 178402],\n",
       " ['Romance', 142769]]"
      ]
     },
     "execution_count": 33,
     "metadata": {},
     "output_type": "execute_result"
    }
   ],
   "source": [
    "# Find genres by popularity\n",
    "keyword_occurences[:5]"
   ]
  },
  {
   "cell_type": "markdown",
   "metadata": {},
   "source": [
    "The top 5 genres by popularity are: Drama, Comedy, Action, Thriller, and Romance. \n",
    "I'll show this on a wordcloud too in order to make it more visually appealing.\n",
    "I do expect genres to be an important variable in our engine recommendation analysis."
   ]
  },
  {
   "cell_type": "code",
   "execution_count": 34,
   "metadata": {},
   "outputs": [
    {
     "data": {
      "image/png": "[encoded data removed]",
      "text/plain": [
       "<matplotlib.figure.Figure at 0x21e08e93da0>"
      ]
     },
     "metadata": {},
     "output_type": "display_data"
    }
   ],
   "source": [
    "#Genres wordcloud\n",
    "\n",
    "# Define the dictionary used to produce the genre wordcloud\n",
    "genres = dict()\n",
    "trunc_occurences = keyword_occurences[0:18]\n",
    "for s in trunc_occurences:\n",
    "    genres[s[0]] = s[1]\n",
    "\n",
    "# Create the wordcloud\n",
    "genre_wordcloud = WordCloud(width=1000,height=400, background_color='white')\n",
    "genre_wordcloud.generate_from_frequencies(genres)\n",
    "\n",
    "# Plot the wordcloud\n",
    "f, ax = plt.subplots(figsize=(16, 8))\n",
    "plt.imshow(genre_wordcloud, interpolation=\"bilinear\")\n",
    "plt.axis('off')\n",
    "plt.show()"
   ]
  },
  {
   "cell_type": "markdown",
   "metadata": {},
   "source": [
    "# Demographics analysis"
   ]
  },
  {
   "cell_type": "markdown",
   "metadata": {},
   "source": [
    "# Gender"
   ]
  },
  {
   "cell_type": "code",
   "execution_count": 35,
   "metadata": {},
   "outputs": [
    {
     "data": {
      "text/plain": [
       "M    702551\n",
       "F    233830\n",
       "Name: Gender, dtype: int64"
      ]
     },
     "execution_count": 35,
     "metadata": {},
     "output_type": "execute_result"
    }
   ],
   "source": [
    "#Gender counts (absolute) \n",
    "Gender = dfc['Gender'].value_counts()\n",
    "Gender"
   ]
  },
  {
   "cell_type": "code",
   "execution_count": 36,
   "metadata": {},
   "outputs": [
    {
     "name": "stdout",
     "output_type": "stream",
     "text": [
      "M    75.028327\n",
      "F    24.971673\n",
      "Name: Gender, dtype: float64\n"
     ]
    }
   ],
   "source": [
    "#Gender counts (relative) \n",
    "# 75.02% of users are male and 24.97% are female\n",
    "\n",
    "Gender_total = Gender.M + Gender.F\n",
    "Gender_total\n",
    "\n",
    "print ((Gender / Gender_total) * 100)"
   ]
  },
  {
   "cell_type": "code",
   "execution_count": 51,
   "metadata": {},
   "outputs": [
    {
     "data": {
      "image/png": "[encoded data removed]",
      "text/plain": [
       "<matplotlib.figure.Figure at 0x18b0097ae80>"
      ]
     },
     "metadata": {},
     "output_type": "display_data"
    }
   ],
   "source": [
    "#Visualizing Gender.\n",
    "\n",
    "# Pie chart\n",
    "labels = ['Male', 'Female']\n",
    "sizes = [75.028327,24.971673]\n",
    "#colors\n",
    "colors = ['#99ff99','#ffcc99']\n",
    " \n",
    "fig1, ax1 = plt.subplots()\n",
    "ax1.pie(sizes, colors = colors, labels=labels, autopct='%1.1f%%', startangle=90)\n",
    "\n",
    "#draw circle\n",
    "centre_circle = plt.Circle((0,0),0.70,fc='white')\n",
    "fig = plt.gcf()\n",
    "fig.gca().add_artist(centre_circle)\n",
    "\n",
    "# Equal aspect ratio ensures that pie is drawn as a circle\n",
    "ax1.axis('equal')  \n",
    "plt.tight_layout()\n",
    "plt.show()"
   ]
  },
  {
   "cell_type": "markdown",
   "metadata": {},
   "source": [
    "Our dataset skews towards males"
   ]
  },
  {
   "cell_type": "markdown",
   "metadata": {},
   "source": [
    "# Age"
   ]
  },
  {
   "cell_type": "code",
   "execution_count": 37,
   "metadata": {},
   "outputs": [
    {
     "data": {
      "text/plain": [
       "25    369626\n",
       "35    187220\n",
       "18    170017\n",
       "45     78902\n",
       "50     68627\n",
       "56     36915\n",
       "1      25074\n",
       "Name: Age, dtype: int64"
      ]
     },
     "execution_count": 37,
     "metadata": {},
     "output_type": "execute_result"
    }
   ],
   "source": [
    "#Age counts (absolute) \n",
    "Age  = dfc['Age'].value_counts()\n",
    "Age"
   ]
  },
  {
   "cell_type": "code",
   "execution_count": 38,
   "metadata": {},
   "outputs": [
    {
     "name": "stdout",
     "output_type": "stream",
     "text": [
      "25    39.473889\n",
      "35    19.993998\n",
      "18    18.156819\n",
      "45     8.426271\n",
      "50     7.328961\n",
      "56     3.942306\n",
      "1      2.677756\n",
      "Name: Age, dtype: float64\n"
     ]
    }
   ],
   "source": [
    "#Age counts (relative) \n",
    "Age_total = sum(Age)\n",
    "print ((Age / Age_total) * 100)"
   ]
  },
  {
   "cell_type": "code",
   "execution_count": 39,
   "metadata": {},
   "outputs": [
    {
     "data": {
      "text/plain": [
       "<matplotlib.axes._subplots.AxesSubplot at 0x21e09345fd0>"
      ]
     },
     "execution_count": 39,
     "metadata": {},
     "output_type": "execute_result"
    },
    {
     "data": {
      "image/png": "[encoded data removed]",
      "text/plain": [
       "<matplotlib.figure.Figure at 0x21e340cd4e0>"
      ]
     },
     "metadata": {},
     "output_type": "display_data"
    }
   ],
   "source": [
    "#Visualizing Age. \n",
    "\n",
    "dfc.groupby('Age').size().plot(kind='bar')\n",
    "\n",
    "#Age key\n",
    "#1:  \"Under 18\"\n",
    "#18:  \"18-24\"\n",
    "#25:  \"25-34\"\n",
    "#35:  \"35-44\"\n",
    "#45:  \"45-49\"\n",
    "#50:  \"50-55\"\n",
    "#56:  \"56+\""
   ]
  },
  {
   "cell_type": "markdown",
   "metadata": {},
   "source": [
    "Our dataset shows skew towards 18 - 44 years old (18-24, 25-34 and 35-44) and the most frequent age range is 25-34 years old"
   ]
  },
  {
   "cell_type": "markdown",
   "metadata": {},
   "source": [
    "# Occupation"
   ]
  },
  {
   "cell_type": "code",
   "execution_count": 42,
   "metadata": {},
   "outputs": [
    {
     "data": {
      "text/plain": [
       "0     122290\n",
       "4     121639\n",
       "7      98964\n",
       "1      80600\n",
       "17     67305\n",
       "20     57011\n",
       "12     52789\n",
       "2      47197\n",
       "14     46249\n",
       "16     43294\n",
       "6      35109\n",
       "3      29902\n",
       "15     21435\n",
       "10     21331\n",
       "5      20354\n",
       "11     19444\n",
       "19     13831\n",
       "13     13065\n",
       "18     11249\n",
       "9      10807\n",
       "8       2516\n",
       "Name: Occupation, dtype: int64"
      ]
     },
     "execution_count": 42,
     "metadata": {},
     "output_type": "execute_result"
    }
   ],
   "source": [
    "#Occupation counts (absolute) \n",
    "Occupation  = dfc['Occupation'].value_counts()\n",
    "Occupation"
   ]
  },
  {
   "cell_type": "code",
   "execution_count": 43,
   "metadata": {},
   "outputs": [
    {
     "data": {
      "text/plain": [
       "0     13.059855\n",
       "4     12.990332\n",
       "7     10.568775\n",
       "1      8.607607\n",
       "17     7.187779\n",
       "20     6.088440\n",
       "12     5.637556\n",
       "2      5.040363\n",
       "14     4.939122\n",
       "16     4.623545\n",
       "6      3.749435\n",
       "3      3.193358\n",
       "15     2.289132\n",
       "10     2.278026\n",
       "5      2.173688\n",
       "11     2.076505\n",
       "19     1.477070\n",
       "13     1.395265\n",
       "18     1.201327\n",
       "9      1.154124\n",
       "8      0.268694\n",
       "Name: Occupation, dtype: float64"
      ]
     },
     "execution_count": 43,
     "metadata": {},
     "output_type": "execute_result"
    }
   ],
   "source": [
    "#Occupation counts (relative) \n",
    "Occupation_total = sum(Occupation)\n",
    "Occupation_freq = (Occupation / Occupation_total) * 100\n",
    "Occupation_freq"
   ]
  },
  {
   "cell_type": "code",
   "execution_count": 44,
   "metadata": {},
   "outputs": [
    {
     "data": {
      "image/png": "[encoded data removed]",
      "text/plain": [
       "<matplotlib.figure.Figure at 0x21e0938bef0>"
      ]
     },
     "metadata": {},
     "output_type": "display_data"
    }
   ],
   "source": [
    "#Visualizing Occupation. \n",
    "\n",
    "# Adding occupation frequencies (%) manually to populate bar chart (excluding #0:  \"other\" or not specified)\n",
    "height = [12.990332,10.568775,8.607607,7.187779,6.08844,5.637556,5.040363,4.939122,4.623545,3.749435,3.193358,\n",
    "          2.289132,2.278026,2.173688,2.076505,1.47707,1.395265,1.201327,1.154124,0.268694]\n",
    "bars = (4,7,1,17,20,12,2,14,16,6,3,15,10,5,11,19,13,18,9,8)\n",
    "y_pos = np.arange(len(bars))\n",
    "  \n",
    "# Create bars and choose color\n",
    "plt.bar(y_pos, height, color = (0.5,0.1,0.5,0.6))\n",
    " \n",
    "# Add title and axis names\n",
    "plt.title('Occupation (%)')\n",
    "plt.xlabel('Occupation types')\n",
    "plt.ylabel('%')\n",
    " \n",
    "# Limits for the Y axis\n",
    "plt.ylim(0,14)\n",
    " \n",
    "# Create names\n",
    "plt.xticks(y_pos, bars)\n",
    " \n",
    "# Show graphic\n",
    "plt.show()\n",
    "\n",
    "#Ocupation key\n",
    "#0:  \"other\" or not specified\n",
    "#1:  \"academic/educator\"\n",
    "#2:  \"artist\"\n",
    "#3:  \"clerical/admin\"\n",
    "#4:  \"college/grad student\"\n",
    "#5:  \"customer service\"\n",
    "#6:  \"doctor/health care\"\n",
    "#7:  \"executive/managerial\"\n",
    "#8:  \"farmer\"\n",
    "#9:  \"homemaker\"\n",
    "#10:  \"K-12 student\"\n",
    "#11:  \"lawyer\"\n",
    "#12:  \"programmer\"\n",
    "#13:  \"retired\"\n",
    "#14:  \"sales/marketing\"\n",
    "#15:  \"scientist\"\n",
    "#16:  \"self-employed\"\n",
    "#17:  \"technician/engineer\"\n",
    "#18:  \"tradesman/craftsman\"\n",
    "#19:  \"unemployed\"\n",
    "#20:  \"writer\""
   ]
  },
  {
   "cell_type": "markdown",
   "metadata": {},
   "source": [
    "Our dataset shows skew towards students, professionals, academics and technicians so we have an heterogeneous group overall\n",
    "\n",
    "Top four occupations are:\n",
    "\n",
    "4:  \"college/grad student\"\n",
    "7:  \"executive/managerial\"\n",
    "1:  \"academic/educator\"\n",
    "17:  \"technician/engineer\""
   ]
  },
  {
   "cell_type": "markdown",
   "metadata": {},
   "source": [
    "# Zip code"
   ]
  },
  {
   "cell_type": "code",
   "execution_count": 46,
   "metadata": {},
   "outputs": [
    {
     "data": {
      "text/plain": [
       "94110    3634\n",
       "60640    3292\n",
       "98103    3045\n",
       "95616    2880\n",
       "2138     2880\n",
       "55408    2629\n",
       "48135    2575\n",
       "97401    2511\n",
       "10024    2477\n",
       "10025    2470\n",
       "Name: Zip-code, dtype: int64"
      ]
     },
     "execution_count": 46,
     "metadata": {},
     "output_type": "execute_result"
    }
   ],
   "source": [
    "#Zip-code counts (absolute) \n",
    "Zip = dfc['Zip-code'].value_counts()\n",
    "Zip.head(10)"
   ]
  },
  {
   "cell_type": "code",
   "execution_count": 53,
   "metadata": {},
   "outputs": [
    {
     "data": {
      "text/plain": [
       "94110    0.388090\n",
       "60640    0.351566\n",
       "98103    0.325188\n",
       "95616    0.307567\n",
       "2138     0.307567\n",
       "55408    0.280762\n",
       "48135    0.274995\n",
       "97401    0.268160\n",
       "10024    0.264529\n",
       "10025    0.263782\n",
       "Name: Zip-code, dtype: float64"
      ]
     },
     "execution_count": 53,
     "metadata": {},
     "output_type": "execute_result"
    }
   ],
   "source": [
    "#Zip-code counts (relative) \n",
    "Zip_total = sum(Zip)\n",
    "Zip_freq = (Zip / Zip_total) * 100\n",
    "Zip_freq.head(10)"
   ]
  },
  {
   "cell_type": "markdown",
   "metadata": {},
   "source": [
    "There is a good spread out of geographies when looking at zip code and our users seem to be based in US across different states.\n",
    "\n",
    "The top five Zip codes belong to:\n",
    "\n",
    "San Francisco (94110)\n",
    "Chicago (60640)\n",
    "Seattle (98103)\n",
    "South Carolina (2138)\n",
    "Californnia (95616)\n",
    "\n",
    "Ideally we would run geo-spatial analysis and plot ur zip-codes into a geographic heat map but I won't be exploring this variable in detail because I do not expect it to be necessary for our engine recommendation analysis at this point."
   ]
  },
  {
   "cell_type": "markdown",
   "metadata": {},
   "source": [
    "# User's movie frequency"
   ]
  },
  {
   "cell_type": "code",
   "execution_count": 59,
   "metadata": {},
   "outputs": [
    {
     "data": {
      "text/html": [
       "<div>\n",
       "<style scoped>\n",
       "    .dataframe tbody tr th:only-of-type {\n",
       "        vertical-align: middle;\n",
       "    }\n",
       "\n",
       "    .dataframe tbody tr th {\n",
       "        vertical-align: top;\n",
       "    }\n",
       "\n",
       "    .dataframe thead th {\n",
       "        text-align: right;\n",
       "    }\n",
       "</style>\n",
       "<table border=\"1\" class=\"dataframe\">\n",
       "  <thead>\n",
       "    <tr style=\"text-align: right;\">\n",
       "      <th>MovieID</th>\n",
       "      <th>1</th>\n",
       "      <th>2</th>\n",
       "      <th>3</th>\n",
       "      <th>4</th>\n",
       "      <th>5</th>\n",
       "      <th>6</th>\n",
       "      <th>7</th>\n",
       "      <th>8</th>\n",
       "      <th>9</th>\n",
       "      <th>10</th>\n",
       "      <th>...</th>\n",
       "      <th>3944</th>\n",
       "      <th>3945</th>\n",
       "      <th>3946</th>\n",
       "      <th>3947</th>\n",
       "      <th>3948</th>\n",
       "      <th>3949</th>\n",
       "      <th>3950</th>\n",
       "      <th>3951</th>\n",
       "      <th>3952</th>\n",
       "      <th>All</th>\n",
       "    </tr>\n",
       "    <tr>\n",
       "      <th></th>\n",
       "      <th></th>\n",
       "      <th></th>\n",
       "      <th></th>\n",
       "      <th></th>\n",
       "      <th></th>\n",
       "      <th></th>\n",
       "      <th></th>\n",
       "      <th></th>\n",
       "      <th></th>\n",
       "      <th></th>\n",
       "      <th></th>\n",
       "      <th></th>\n",
       "      <th></th>\n",
       "      <th></th>\n",
       "      <th></th>\n",
       "      <th></th>\n",
       "      <th></th>\n",
       "      <th></th>\n",
       "      <th></th>\n",
       "      <th></th>\n",
       "      <th></th>\n",
       "    </tr>\n",
       "  </thead>\n",
       "  <tbody>\n",
       "    <tr>\n",
       "      <th>All</th>\n",
       "      <td>2077</td>\n",
       "      <td>701</td>\n",
       "      <td>478</td>\n",
       "      <td>170</td>\n",
       "      <td>296</td>\n",
       "      <td>940</td>\n",
       "      <td>458</td>\n",
       "      <td>68</td>\n",
       "      <td>102</td>\n",
       "      <td>888</td>\n",
       "      <td>...</td>\n",
       "      <td>9</td>\n",
       "      <td>43</td>\n",
       "      <td>100</td>\n",
       "      <td>55</td>\n",
       "      <td>862</td>\n",
       "      <td>304</td>\n",
       "      <td>54</td>\n",
       "      <td>40</td>\n",
       "      <td>388</td>\n",
       "      <td>1000209</td>\n",
       "    </tr>\n",
       "  </tbody>\n",
       "</table>\n",
       "<p>1 rows × 3707 columns</p>\n",
       "</div>"
      ],
      "text/plain": [
       "MovieID     1    2    3    4    5    6    7   8    9   10   ...     3944  \\\n",
       "                                                            ...            \n",
       "All      2077  701  478  170  296  940  458  68  102  888   ...        9   \n",
       "\n",
       "MovieID  3945  3946  3947  3948  3949  3950  3951  3952      All  \n",
       "                                                                  \n",
       "All        43   100    55   862   304    54    40   388  1000209  \n",
       "\n",
       "[1 rows x 3707 columns]"
      ]
     },
     "execution_count": 59,
     "metadata": {},
     "output_type": "execute_result"
    }
   ],
   "source": [
    "#Find total number of users that watched each movie\n",
    "\n",
    "moviewatched = df_usermovie.iloc[6040:]\n",
    "moviewatched\n"
   ]
  },
  {
   "cell_type": "code",
   "execution_count": 60,
   "metadata": {},
   "outputs": [],
   "source": [
    "#Arranging my dataframe\n",
    "\n",
    "#Transposing dataframe\n",
    "moviewatchedT = moviewatched.reset_index().T\n",
    "\n",
    "#Dropping first and last rows with 'All' from dataframe\n",
    "moviewatchedT = moviewatchedT.iloc[1:]\n",
    "moviewatchedc = moviewatchedT[:-1]"
   ]
  },
  {
   "cell_type": "code",
   "execution_count": 128,
   "metadata": {},
   "outputs": [
    {
     "data": {
      "text/html": [
       "<div>\n",
       "<style scoped>\n",
       "    .dataframe tbody tr th:only-of-type {\n",
       "        vertical-align: middle;\n",
       "    }\n",
       "\n",
       "    .dataframe tbody tr th {\n",
       "        vertical-align: top;\n",
       "    }\n",
       "\n",
       "    .dataframe thead th {\n",
       "        text-align: right;\n",
       "    }\n",
       "</style>\n",
       "<table border=\"1\" class=\"dataframe\">\n",
       "  <thead>\n",
       "    <tr style=\"text-align: right;\">\n",
       "      <th></th>\n",
       "      <th>0</th>\n",
       "    </tr>\n",
       "    <tr>\n",
       "      <th>MovieID</th>\n",
       "      <th></th>\n",
       "    </tr>\n",
       "  </thead>\n",
       "  <tbody>\n",
       "    <tr>\n",
       "      <th>2858</th>\n",
       "      <td>3428</td>\n",
       "    </tr>\n",
       "    <tr>\n",
       "      <th>260</th>\n",
       "      <td>2991</td>\n",
       "    </tr>\n",
       "    <tr>\n",
       "      <th>1196</th>\n",
       "      <td>2990</td>\n",
       "    </tr>\n",
       "    <tr>\n",
       "      <th>1210</th>\n",
       "      <td>2883</td>\n",
       "    </tr>\n",
       "    <tr>\n",
       "      <th>480</th>\n",
       "      <td>2672</td>\n",
       "    </tr>\n",
       "    <tr>\n",
       "      <th>2028</th>\n",
       "      <td>2653</td>\n",
       "    </tr>\n",
       "    <tr>\n",
       "      <th>589</th>\n",
       "      <td>2649</td>\n",
       "    </tr>\n",
       "    <tr>\n",
       "      <th>2571</th>\n",
       "      <td>2590</td>\n",
       "    </tr>\n",
       "    <tr>\n",
       "      <th>1270</th>\n",
       "      <td>2583</td>\n",
       "    </tr>\n",
       "    <tr>\n",
       "      <th>593</th>\n",
       "      <td>2578</td>\n",
       "    </tr>\n",
       "  </tbody>\n",
       "</table>\n",
       "</div>"
      ],
      "text/plain": [
       "            0\n",
       "MovieID      \n",
       "2858     3428\n",
       "260      2991\n",
       "1196     2990\n",
       "1210     2883\n",
       "480      2672\n",
       "2028     2653\n",
       "589      2649\n",
       "2571     2590\n",
       "1270     2583\n",
       "593      2578"
      ]
     },
     "execution_count": 128,
     "metadata": {},
     "output_type": "execute_result"
    }
   ],
   "source": [
    "#Find most popular movies by number of users watched them (ranking)\n",
    "\n",
    "moviewatchedrank = moviewatchedc.sort_values(0, ascending=False)\n",
    "moviewatchedrank.head(10)\n",
    "\n",
    "#Finding movie titles\n",
    "#dfc.loc[dfc['MovieID'] == 480]"
   ]
  },
  {
   "cell_type": "markdown",
   "metadata": {},
   "source": [
    "The top 5 movie titles most watched are:\n",
    "\n",
    "American Beauty (1999) (MovieID = 2858)\n",
    "Star Wars (260)\n",
    "Star Wars (1196)\n",
    "Star Wars (1210)\n",
    "Jurassic Park (1993) (480)\n",
    "\n",
    "We seem to have several Star Wars movies so I will have a look at why this is happening"
   ]
  },
  {
   "cell_type": "markdown",
   "metadata": {},
   "source": [
    "# HELP NEEDED"
   ]
  },
  {
   "cell_type": "code",
   "execution_count": 168,
   "metadata": {},
   "outputs": [
    {
     "data": {
      "text/html": [
       "<div>\n",
       "<style scoped>\n",
       "    .dataframe tbody tr th:only-of-type {\n",
       "        vertical-align: middle;\n",
       "    }\n",
       "\n",
       "    .dataframe tbody tr th {\n",
       "        vertical-align: top;\n",
       "    }\n",
       "\n",
       "    .dataframe thead th {\n",
       "        text-align: right;\n",
       "    }\n",
       "</style>\n",
       "<table border=\"1\" class=\"dataframe\">\n",
       "  <thead>\n",
       "    <tr style=\"text-align: right;\">\n",
       "      <th></th>\n",
       "      <th>0</th>\n",
       "    </tr>\n",
       "    <tr>\n",
       "      <th>MovieID</th>\n",
       "      <th></th>\n",
       "    </tr>\n",
       "  </thead>\n",
       "  <tbody>\n",
       "    <tr>\n",
       "      <th>2858</th>\n",
       "      <td>3428</td>\n",
       "    </tr>\n",
       "  </tbody>\n",
       "</table>\n",
       "</div>"
      ],
      "text/plain": [
       "            0\n",
       "MovieID      \n",
       "2858     3428"
      ]
     },
     "execution_count": 168,
     "metadata": {},
     "output_type": "execute_result"
    }
   ],
   "source": [
    "#Star Wars movies are included in my moviewatchedrank table (MovieID) and come from df_movies original set\n",
    "\n",
    "#df_movies[df_movies['Title'].str.contains(\"Star Wars\")]\n",
    "\n",
    "#list(moviewatchedrank.columns.values)\n",
    "#[260,1196,1210,2628]\n",
    "\n",
    "\n",
    "#But these observations we dropped from dfc set so I need to drop them from moviewatchedrank too to avoid \n",
    "#discrepancies between tables\n",
    "#dfc[dfc['Title'].str.contains(\"Star Wars\")]\n",
    "\n",
    "#I am having issues dropping them because moviewatchedrank table doesn't seem to have correct headings :(\n",
    "list(moviewatchedrank)\n",
    "moviewatchedrank.head(1)\n",
    "\n",
    "#This is how I would drop values if able\n",
    "#moviewatchedrank = moviewatchedrank[moviewatchedrank.MovieID == 260]"
   ]
  },
  {
   "cell_type": "markdown",
   "metadata": {},
   "source": [
    "# Findings on exploratory analysis"
   ]
  },
  {
   "cell_type": "markdown",
   "metadata": {},
   "source": [
    "We've loaded, prepared and explored our data for further analysis. Our data should be cleaned enough now to ensure meaning results when used in our model. If coming across any further data issues, I expect to deal with them on the spot. However, they should not happen or be minimal at from this stage.\n",
    "\n",
    "Our main variables are ratings, genres and users. \n",
    "\n",
    "We've confirmed that our ratings tend to be quite positive considering a scale of 5. Its distribution is negatively skewed and \n",
    "we don't seem to have outliers. Different variables other than the quality of movies could be impacting user's ratings but I won't be exploring them as they are out of scope for the purposes of this analysis.\n",
    "\n",
    "The most popular movie genres are Drama, Comedy, Action, Thriller, and Romance. \n",
    "\n",
    "Movie users tend to be males, 18 - 44 years old, work in a variety of occupations (e.g. students, professionals, academics and technicians) and be located across US states.\n",
    "\n",
    "The top five movie titles most watched by users are (pending)\n",
    "\n",
    "These findings set the ground for our recommendation engine which we will be developing in Final Project 4\n"
   ]
  },
  {
   "cell_type": "markdown",
   "metadata": {},
   "source": []
  }
 ],
 "metadata": {
  "kernelspec": {
   "display_name": "Python 3",
   "language": "python",
   "name": "python3"
  },
  "language_info": {
   "codemirror_mode": {
    "name": "ipython",
    "version": 3
   },
   "file_extension": ".py",
   "mimetype": "text/x-python",
   "name": "python",
   "nbconvert_exporter": "python",
   "pygments_lexer": "ipython3",
   "version": "3.6.4"
  }
 },
 "nbformat": 4,
 "nbformat_minor": 2
}
