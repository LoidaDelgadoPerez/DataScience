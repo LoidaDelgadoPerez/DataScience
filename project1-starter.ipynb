{
 "cells": [
  {
   "cell_type": "markdown",
   "metadata": {},
   "source": [
    "# Project 1\n",
    "\n",
    "In this first project you will create a framework to scope out data science projects. This framework will provide you with a guide to develop a well-articulated problem statement and analysis plan that will be robust and reproducible."
   ]
  },
  {
   "cell_type": "markdown",
   "metadata": {},
   "source": [
    "### Read and evaluate the following problem statement: \n",
    "Determine which free-tier customers will covert to paying customers, using demographic data collected at signup (age, gender, location, and profession) and customer useage data (days since last log in, and activity score 1 = active user, 0= inactive user) based on Hooli data from Jan-Apr 2015. \n"
   ]
  },
  {
   "cell_type": "markdown",
   "metadata": {},
   "source": [
    "#### 1. What is the outcome?"
   ]
  },
  {
   "cell_type": "markdown",
   "metadata": {},
   "source": [
    "Answer: Return an indicator of future customer conversion (from free customer to subscriber customer)"
   ]
  },
  {
   "cell_type": "markdown",
   "metadata": {},
   "source": [
    "#### 2. What are the predictors/covariates? "
   ]
  },
  {
   "cell_type": "markdown",
   "metadata": {},
   "source": [
    "Answer: age, gender, location, profession, days since last log in, activity score 1 = active user, 0= inactive user"
   ]
  },
  {
   "cell_type": "markdown",
   "metadata": {},
   "source": [
    "#### 3. What timeframe is this data relevent for?"
   ]
  },
  {
   "cell_type": "markdown",
   "metadata": {},
   "source": [
    "Answer: Jan-Apr 2015"
   ]
  },
  {
   "cell_type": "markdown",
   "metadata": {},
   "source": [
    "#### 4. What is the hypothesis?"
   ]
  },
  {
   "cell_type": "markdown",
   "metadata": {},
   "source": [
    "Answer: The customer's demographic profile and the degree of customer interaction with the business will allow us to predict if a customer will become a subscriber. \n",
    "\n",
    "We expect free customers to subscribe more when being younger (under 35 years old), female, having their last log in within 2018 and being active users"
   ]
  },
  {
   "cell_type": "markdown",
   "metadata": {},
   "source": [
    "# Let's get started with our dataset"
   ]
  },
  {
   "cell_type": "markdown",
   "metadata": {},
   "source": [
    "#### 1. Create a data dictionary "
   ]
  },
  {
   "cell_type": "markdown",
   "metadata": {},
   "source": [
    "Answer: \n",
    "\n",
    "Variable      | Description                        | Type of Variable | Data type\n",
    "---           | ---                                | ---              |---  \n",
    "Age           | Number of years old                | continuous       |integer\n",
    "Gender        | M - Male, F - Female               | categorical      |string\n",
    "Location      | Australia state                    | categorical      |string\n",
    "Profession    | Title account owner                | categorical      |string\n",
    "Days_last_log | Days since last log in             | continuous       |integer\n",
    "Activity      | 1 - active user, 0 - inactive user |discret           |boolean"
   ]
  },
  {
   "cell_type": "markdown",
   "metadata": {},
   "source": [
    "We would like to explore the association between X and Y "
   ]
  },
  {
   "cell_type": "markdown",
   "metadata": {},
   "source": [
    "#### 2. What is the outcome?"
   ]
  },
  {
   "cell_type": "markdown",
   "metadata": {},
   "source": [
    "Answer: For this we will need to use correlation technique"
   ]
  },
  {
   "cell_type": "markdown",
   "metadata": {},
   "source": [
    "#### 3. What are the predictors/covariates? "
   ]
  },
  {
   "cell_type": "markdown",
   "metadata": {},
   "source": [
    "Answer: age, gender, days_last_log, activity"
   ]
  },
  {
   "cell_type": "markdown",
   "metadata": {},
   "source": [
    "#### 4. What timeframe is this data relevent for?"
   ]
  },
  {
   "cell_type": "markdown",
   "metadata": {},
   "source": [
    "Answer:2018"
   ]
  },
  {
   "cell_type": "markdown",
   "metadata": {},
   "source": [
    "#### 4. What is the hypothesis?"
   ]
  },
  {
   "cell_type": "markdown",
   "metadata": {},
   "source": [
    "Answer:"
   ]
  },
  {
   "cell_type": "markdown",
   "metadata": {},
   "source": [
    "    Using the above information, write a well-formed problem statement. \n",
    "\n",
    "We would like to explore the association between customer conversion and demographic (age, gender) and customer history (last log in and activity) variables based on the following hypothesis:\n",
    "\n",
    "1. Free customers subscribe more when being younger (under 35 years old), female, having their last log in within 2018 and being active users\n",
    "\n",
    "For this, we will use the time series dataset retrieved from the company's CRM which has already been collected and is currently stored 'here' The tecnique of choice for the analysis will be correlation analysis?\n",
    "\n",
    "The success of this project will mean that the lreationship between customer conversion and the variables stated exists.\n",
    "\n",
    "The project will be documented 'here' and expect to be delivered on 'specific date'"
   ]
  },
  {
   "cell_type": "markdown",
   "metadata": {},
   "source": [
    "## Problem Statement"
   ]
  },
  {
   "cell_type": "markdown",
   "metadata": {},
   "source": [
    "### Exploratory Analysis Plan"
   ]
  },
  {
   "cell_type": "markdown",
   "metadata": {},
   "source": [
    "Using the lab from a class as a guide, create an exploratory analysis plan. "
   ]
  },
  {
   "cell_type": "markdown",
   "metadata": {},
   "source": [
    "#### 1. What are the goals of the exploratory analysis? "
   ]
  },
  {
   "attachments": {},
   "cell_type": "markdown",
   "metadata": {
    "collapsed": true
   },
   "source": [
    "Answer: Overall, exploratory analysis helps to better understand the dataset will be dealing within the future from a high-level perspective. It involves having a quick look at the data and its structure. \n",
    "\n",
    "1. Check for missing data and other mistakes.\n",
    "2. Gain maximum insight into the data set and its underlying structure.\n",
    "3. Uncover a parsimonious model, one which explains the data with a minimum number of predictor variables.\n",
    "4. Check assumptions associated with any model fitting or hypothesis test.\n",
    "5. Create a list of outliers or other anomalies.\n",
    "6. Find parameter estimates and their associated confidence intervals or margins of error.\n",
    "7. Identify the most influential variables.\n",
    "\n",
    "\n",
    "Steps that should be considered when doing exploratory analysis are:\n",
    "\n",
    "1. Finding documentation for the data and the data dictionary\n",
    "2. Filtering, sorting or making simple visualization to better understand the data\n",
    "3. Checking what type of information is contained in the data\n",
    "4. Checking what data types are the variables\n",
    "5. Confirming existence of outliers and looking at trends"
   ]
  },
  {
   "cell_type": "markdown",
   "metadata": {},
   "source": [
    "#### 2a. What are the assumptions of the distribution of data? "
   ]
  },
  {
   "cell_type": "markdown",
   "metadata": {},
   "source": [
    "Answer: We assume the data follows a normal distribution where 80% of values falls within the bell while we have 20% of value being outliers. "
   ]
  },
  {
   "cell_type": "markdown",
   "metadata": {},
   "source": [
    "#### 2b. How will determine the distribution of your data? "
   ]
  },
  {
   "cell_type": "markdown",
   "metadata": {
    "collapsed": true
   },
   "source": [
    "Answer: We will plot the raw data to confirm how it's distributed. For this, we will look at the histogram to identify what type of distribution our data follows (normal, right/left skew)"
   ]
  },
  {
   "cell_type": "markdown",
   "metadata": {},
   "source": [
    "#### 3a. How might outliers impact your analysis? "
   ]
  },
  {
   "cell_type": "markdown",
   "metadata": {
    "collapsed": true
   },
   "source": [
    "Answer: Outliers will skew any analysis implemented so we will need to make a decision on their treatment. Ideally, we would remove them from our dataset"
   ]
  },
  {
   "cell_type": "markdown",
   "metadata": {},
   "source": [
    "#### 3b. How will you test for outliers? "
   ]
  },
  {
   "cell_type": "markdown",
   "metadata": {},
   "source": [
    "Answer: We will run descriptive statistics (mean, mode, median, variance, standard deviation, interquartile range)"
   ]
  },
  {
   "cell_type": "markdown",
   "metadata": {},
   "source": [
    "#### 4a. What is colinearity? "
   ]
  },
  {
   "cell_type": "code",
   "execution_count": null,
   "metadata": {},
   "outputs": [],
   "source": [
    "Colinearity occurs when your model includes multiple factors that are correlated not just to your response variable, but also to each other. In other words, it results when you have factors that are a bit redundant."
   ]
  },
  {
   "cell_type": "markdown",
   "metadata": {
    "collapsed": true
   },
   "source": [
    "Answer: "
   ]
  },
  {
   "cell_type": "markdown",
   "metadata": {},
   "source": [
    "#### 4b. How will you test for colinearity? "
   ]
  },
  {
   "cell_type": "markdown",
   "metadata": {},
   "source": [
    "Answer: Some things to watch for are:\n",
    "\n",
    "A regression coefficient is not significant even though, theoretically, that variable should be highly correlated with Y.\n",
    "When you add or delete an X variable, the regression coefficients change dramatically.\n",
    "You see a negative regression coefficient when your response should increase along with X.\n",
    "You see a positive regression coefficient when the response should decrease as X increases.\n",
    "Your X variables have high pairwise correlations. \n",
    "\n",
    "I would remove highly correlated predictors from the model as a way to deal with the redundancy "
   ]
  },
  {
   "cell_type": "markdown",
   "metadata": {},
   "source": [
    "#### 5. What is your exploratory analysis plan?\n",
    "Using the above information, write an exploratory analysis plan that would allow you or a colleague to reproduce your analysis 1 year from now. "
   ]
  },
  {
   "cell_type": "markdown",
   "metadata": {},
   "source": [
    "Steps:\n",
    "\n",
    "1. Check for missing data and other mistakes.\n",
    "2. Gain maximum insight into the data set and its underlying structure by looking at data documentation and data dictionary\n",
    "3. Run descriptive statistics (mean, mode, median, variance, standard deviation, interquartile range)\n",
    "4. Plot raw data into histogram to check distribution\n",
    "5. Confirming existence of outliers and other issues and remove from dataset\n",
    "6. Look at trends\n",
    "7. Check assumptions and risks associated\n",
    "8. Find confidence intervals and margins of error.\n",
    "9. Identify the most influential variables and test for colinearity. Remove redundant variables"
   ]
  },
  {
   "cell_type": "markdown",
   "metadata": {},
   "source": [
    "## Bonus Questions:\n",
    "1. Outline your analysis method for predicting your outcome\n",
    "2. Write an alternative problem statement for your dataset\n",
    "3. Articulate the assumptions and risks of the alternative model"
   ]
  },
  {
   "cell_type": "code",
   "execution_count": null,
   "metadata": {
    "collapsed": true
   },
   "outputs": [],
   "source": [
    "1. Multiple correlation analysis\n",
    "\n",
    "2. We would like to explore the association between customer conversion and location of customers (Australian state) variables \n",
    "based on the following hypothesis:Free customers are more likely to subscribe when living in warmer locations within Australia\n",
    "    \n",
    "For this, we will use the time series dataset retrieved from the companys CRM which has already been collected and is currently stored 'here'\n",
    "\n",
    "The tecnique of choice for the analysis will be correlation analysis\n",
    "\n",
    "The success of this project will mean that the reationship between customer conversion and the variable exists.\n",
    "\n",
    "The project will be documented 'here' and expect to be delivered on 'specific date'\n",
    "\n",
    "3.  Assumptions: We assume that the collected data is valid and hasnt changed massively since collection. \n",
    "    We assume that average temperatures across Australia within 2018 remain somehow constant.\n",
    "    We assume customers are honest when providing demographic information\n",
    "\n",
    "    Risks: Customers leaving the company (no orders, logins, no activity on site, no way of contacting them) and therefore not applicable in our dataset anymore.\n",
    "    2018 being an exceptionally warm year and not being representative of registered temperatures in the past ten years across Australia\n",
    "    The researcher is a newbie in Python programming and currently learning Data Science!\n"
   ]
  }
 ],
 "metadata": {
  "kernelspec": {
   "display_name": "Python 3",
   "language": "python",
   "name": "python3"
  },
  "language_info": {
   "codemirror_mode": {
    "name": "ipython",
    "version": 3
   },
   "file_extension": ".py",
   "mimetype": "text/x-python",
   "name": "python",
   "nbconvert_exporter": "python",
   "pygments_lexer": "ipython3",
   "version": "3.6.4"
  }
 },
 "nbformat": 4,
 "nbformat_minor": 1
}
